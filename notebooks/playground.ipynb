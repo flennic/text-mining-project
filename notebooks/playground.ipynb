{
 "cells": [
  {
   "cell_type": "markdown",
   "metadata": {},
   "source": [
    "# Data Processing"
   ]
  },
  {
   "cell_type": "code",
   "execution_count": 1,
   "metadata": {},
   "outputs": [],
   "source": [
    "path_train = u\"../src/data/processed/train.mini.csv\""
   ]
  },
  {
   "cell_type": "code",
   "execution_count": 2,
   "metadata": {},
   "outputs": [],
   "source": [
    "path_val = u\"../src/data/processed/val.mini.csv\""
   ]
  },
  {
   "cell_type": "markdown",
   "metadata": {},
   "source": [
    "Reading in word vectors. Reduced to 500k due to RAM limits."
   ]
  },
  {
   "cell_type": "markdown",
   "metadata": {},
   "source": [
    "**Todo:** Filter for those vocabularies that are actually in the whole data set."
   ]
  },
  {
   "cell_type": "code",
   "execution_count": 3,
   "metadata": {},
   "outputs": [
    {
     "name": "stdout",
     "output_type": "stream",
     "text": [
      "CPU times: user 14.8 s, sys: 1.14 s, total: 16 s\n",
      "Wall time: 15.2 s\n"
     ]
    }
   ],
   "source": [
    "%%time\n",
    "import gensim\n",
    "import numpy as np\n",
    "embedding_model = gensim.models.KeyedVectors.load_word2vec_format('../src/data/embeddings/GoogleNews-vectors-negative300.bin', binary=True, limit=500000)\n",
    "embedding_model.add('<oov>', np.mean(embedding_model.vectors, axis=0),replace=False)\n",
    "embedding_model.add('<padding>', np.zeros(300),replace=False)"
   ]
  },
  {
   "cell_type": "markdown",
   "metadata": {},
   "source": [
    "Create a Dataset for the Amazon reviews."
   ]
  },
  {
   "cell_type": "code",
   "execution_count": 4,
   "metadata": {},
   "outputs": [],
   "source": [
    "from torch.utils.data import Dataset\n",
    "import spacy\n",
    "import pandas as pd\n",
    "import numpy as np\n",
    "import torch\n",
    "\n",
    "class AmazonReviewDataset(Dataset):\n",
    "    def __init__(self, path, padding=200, padding_token=\"<padding>\"):\n",
    "        \n",
    "        tokenizer = spacy.load(\"en_core_web_sm\")\n",
    "        \n",
    "        self.samples = []\n",
    "        \n",
    "        # Load all the data\n",
    "        data = pd.read_csv(path)\n",
    "                \n",
    "        # Tokenize, pad and vectorize each review\n",
    "        for index, row in data.iterrows():\n",
    "            \n",
    "            # Tokenize\n",
    "            sentence = [token.text for token in tokenizer(row[\"review\"])]\n",
    "            \n",
    "            # Pad\n",
    "            sentence = sentence[:padding] + [padding_token]*(padding - len(sentence))\n",
    "            \n",
    "            self.samples.append([row[\"id\"], row[\"label\"], row[\"alpha\"]] + sentence)\n",
    "\n",
    "    def __len__(self):\n",
    "        return len(self.samples)\n",
    "\n",
    "    def __getitem__(self, idx):\n",
    "        \n",
    "        return self.samples[idx]"
   ]
  },
  {
   "cell_type": "code",
   "execution_count": 49,
   "metadata": {},
   "outputs": [
    {
     "name": "stdout",
     "output_type": "stream",
     "text": [
      "Loading Training Dataset\n"
     ]
    }
   ],
   "source": [
    "from os import path\n",
    "import pickle\n",
    "\n",
    "pickle_path = \"data.train.pickle\"\n",
    "\n",
    "if path.exists(pickle_path):\n",
    "    print(\"Loading Training Dataset\")\n",
    "    with open(pickle_path, \"rb\") as pickled:\n",
    "        train_data = pickle.load(pickled)\n",
    "else:\n",
    "    print(\"Creating and saving Training Dataset\")\n",
    "    train_data = AmazonReviewDataset(path_train)\n",
    "    with open(pickle_path, \"wb\") as pickled:\n",
    "         pickle.dump(train_data, pickled)"
   ]
  },
  {
   "cell_type": "code",
   "execution_count": 6,
   "metadata": {},
   "outputs": [
    {
     "name": "stdout",
     "output_type": "stream",
     "text": [
      "CPU times: user 3min 6s, sys: 319 ms, total: 3min 6s\n",
      "Wall time: 3min 6s\n"
     ]
    }
   ],
   "source": [
    "%%time\n",
    "train_data = AmazonReviewDataset(path_train)"
   ]
  },
  {
   "cell_type": "code",
   "execution_count": 8,
   "metadata": {},
   "outputs": [
    {
     "name": "stdout",
     "output_type": "stream",
     "text": [
      "CPU times: user 1min 34s, sys: 96 ms, total: 1min 35s\n",
      "Wall time: 1min 35s\n"
     ]
    }
   ],
   "source": [
    "%%time\n",
    "val_data = AmazonReviewDataset(path_val)"
   ]
  },
  {
   "cell_type": "markdown",
   "metadata": {},
   "source": [
    "Create a DataLoader as well, using a custom collate function for creating the batches."
   ]
  },
  {
   "cell_type": "code",
   "execution_count": 50,
   "metadata": {},
   "outputs": [],
   "source": [
    "def row2tensor(sentence, oov_placeholder=\"<oov>\"):\n",
    "    filled_sentence = [word if embedding_model.vocab.get(word) is not None else oov_placeholder for word in sentence[3:]]\n",
    "    sentence_as_int = [embedding_model.vocab.get(word).index for word in filled_sentence]\n",
    "    return sentence_as_int, sentence[1]"
   ]
  },
  {
   "cell_type": "code",
   "execution_count": 51,
   "metadata": {},
   "outputs": [],
   "source": [
    "#def row2tensor(sentence):\n",
    "#    mean_vec = np.mean([embedding_model[word] for word in sentence[3:] if embedding_model.vocab.get(word) is not None], axis=0).flatten()\n",
    "#    mean_word = embedding_model.similar_by_vector(mean_vec, topn=1)[0][0]\n",
    "#    filled_sentence = [word if embedding_model.vocab.get(word[0]) is not None else (mean_word,) for word in sentence[3:]]\n",
    "#    sentence_as_int = [embedding_model.vocab.get(word[0]).index for word in filled_sentence]\n",
    "#    return sentence_as_int, sentence[1]"
   ]
  },
  {
   "cell_type": "code",
   "execution_count": 52,
   "metadata": {},
   "outputs": [],
   "source": [
    "def batch2tensor(batch):\n",
    "    X, Y = [], []\n",
    "    \n",
    "    for row in batch:\n",
    "        x, y = row2tensor(row)\n",
    "        X.append(x)\n",
    "        Y.append(y)\n",
    "        \n",
    "    return torch.LongTensor(X), torch.LongTensor(Y)"
   ]
  },
  {
   "cell_type": "code",
   "execution_count": 53,
   "metadata": {},
   "outputs": [
    {
     "name": "stdout",
     "output_type": "stream",
     "text": [
      "CPU times: user 113 µs, sys: 2 µs, total: 115 µs\n",
      "Wall time: 122 µs\n"
     ]
    }
   ],
   "source": [
    "%%time\n",
    "from torch.utils.data import DataLoader\n",
    "dataloader_train = DataLoader(train_data, batch_size=32, shuffle=True, num_workers=4, collate_fn=batch2tensor)\n",
    "dataloader_val = DataLoader(val_data, batch_size=32, shuffle=True, num_workers=4, collate_fn=batch2tensor)"
   ]
  },
  {
   "cell_type": "markdown",
   "metadata": {},
   "source": [
    "Load one example."
   ]
  },
  {
   "cell_type": "code",
   "execution_count": 54,
   "metadata": {},
   "outputs": [
    {
     "name": "stdout",
     "output_type": "stream",
     "text": [
      "CPU times: user 42.1 ms, sys: 176 ms, total: 218 ms\n",
      "Wall time: 197 ms\n"
     ]
    }
   ],
   "source": [
    "%%time\n",
    "dataiter_train = iter(dataloader_train)"
   ]
  },
  {
   "cell_type": "code",
   "execution_count": 55,
   "metadata": {},
   "outputs": [
    {
     "name": "stdout",
     "output_type": "stream",
     "text": [
      "CPU times: user 4.04 ms, sys: 0 ns, total: 4.04 ms\n",
      "Wall time: 3.64 ms\n"
     ]
    }
   ],
   "source": [
    "%%time\n",
    "X_dash, Y_dash = dataiter_train.next()"
   ]
  },
  {
   "cell_type": "code",
   "execution_count": 56,
   "metadata": {},
   "outputs": [],
   "source": [
    "X_dash = X_dash.cuda()\n",
    "Y_dash = Y_dash.cuda()"
   ]
  },
  {
   "cell_type": "code",
   "execution_count": 57,
   "metadata": {},
   "outputs": [
    {
     "data": {
      "text/plain": [
       "torch.Size([32, 200])"
      ]
     },
     "execution_count": 57,
     "metadata": {},
     "output_type": "execute_result"
    }
   ],
   "source": [
    "X_dash.shape"
   ]
  },
  {
   "cell_type": "code",
   "execution_count": 58,
   "metadata": {},
   "outputs": [
    {
     "data": {
      "text/plain": [
       "torch.Size([32])"
      ]
     },
     "execution_count": 58,
     "metadata": {},
     "output_type": "execute_result"
    }
   ],
   "source": [
    "Y_dash.shape"
   ]
  },
  {
   "cell_type": "markdown",
   "metadata": {},
   "source": [
    "Definition of the network."
   ]
  },
  {
   "cell_type": "code",
   "execution_count": 59,
   "metadata": {},
   "outputs": [],
   "source": [
    "import torch.nn as nn"
   ]
  },
  {
   "cell_type": "code",
   "execution_count": 60,
   "metadata": {},
   "outputs": [],
   "source": [
    "class Network(nn.Module):\n",
    "    def __init__(self, word_embeddings, embedding_size=300, padding=200, category_amount=5):\n",
    "        super().__init__()\n",
    "        \n",
    "        # Predefined word embeddings\n",
    "        self.embedding = nn.Embedding.from_pretrained(word_embeddings)\n",
    "        \n",
    "        self.l1 = nn.Linear(embedding_size * padding, 256)\n",
    "        self.l2 = nn.Linear(256, category_amount)\n",
    "        \n",
    "        # Define sigmoid activation and softmax output \n",
    "        self.sigmoid = nn.Sigmoid()\n",
    "        self.softmax = nn.LogSoftmax(dim=1)\n",
    "        \n",
    "    def forward(self, x):\n",
    "        # Pass the input tensor through each of our operations\n",
    "        x = self.embedding(x)\n",
    "        x = x.view(x.shape[0], -1)\n",
    "        x = self.l1(x)\n",
    "        x = self.sigmoid(x)\n",
    "        x = self.l2(x)\n",
    "        x = self.softmax(x)\n",
    "        \n",
    "        return x"
   ]
  },
  {
   "cell_type": "code",
   "execution_count": 61,
   "metadata": {},
   "outputs": [],
   "source": [
    "model = Network(torch.FloatTensor(embedding_model.vectors)).cuda()"
   ]
  },
  {
   "cell_type": "code",
   "execution_count": 62,
   "metadata": {},
   "outputs": [
    {
     "data": {
      "text/plain": [
       "Network(\n",
       "  (embedding): Embedding(500002, 300)\n",
       "  (l1): Linear(in_features=60000, out_features=256, bias=True)\n",
       "  (l2): Linear(in_features=256, out_features=5, bias=True)\n",
       "  (sigmoid): Sigmoid()\n",
       "  (softmax): LogSoftmax()\n",
       ")"
      ]
     },
     "execution_count": 62,
     "metadata": {},
     "output_type": "execute_result"
    }
   ],
   "source": [
    "model"
   ]
  },
  {
   "cell_type": "code",
   "execution_count": 63,
   "metadata": {},
   "outputs": [
    {
     "data": {
      "text/plain": [
       "torch.Size([32, 5])"
      ]
     },
     "execution_count": 63,
     "metadata": {},
     "output_type": "execute_result"
    }
   ],
   "source": [
    "model(X_dash).shape"
   ]
  },
  {
   "cell_type": "code",
   "execution_count": 64,
   "metadata": {},
   "outputs": [
    {
     "data": {
      "text/plain": [
       "torch.Size([5])"
      ]
     },
     "execution_count": 64,
     "metadata": {},
     "output_type": "execute_result"
    }
   ],
   "source": [
    "model(X_dash)[0].shape"
   ]
  },
  {
   "cell_type": "code",
   "execution_count": 65,
   "metadata": {},
   "outputs": [
    {
     "data": {
      "text/plain": [
       "torch.Size([32, 5])"
      ]
     },
     "execution_count": 65,
     "metadata": {},
     "output_type": "execute_result"
    }
   ],
   "source": [
    "model(X_dash).shape"
   ]
  },
  {
   "cell_type": "code",
   "execution_count": 66,
   "metadata": {},
   "outputs": [
    {
     "data": {
      "text/plain": [
       "torch.Size([32])"
      ]
     },
     "execution_count": 66,
     "metadata": {},
     "output_type": "execute_result"
    }
   ],
   "source": [
    "Y_dash.shape"
   ]
  },
  {
   "cell_type": "code",
   "execution_count": 67,
   "metadata": {},
   "outputs": [
    {
     "data": {
      "text/plain": [
       "torch.Size([32, 200])"
      ]
     },
     "execution_count": 67,
     "metadata": {},
     "output_type": "execute_result"
    }
   ],
   "source": [
    "X_dash.shape"
   ]
  },
  {
   "cell_type": "markdown",
   "metadata": {},
   "source": [
    "Look at the untrained model."
   ]
  },
  {
   "cell_type": "code",
   "execution_count": 68,
   "metadata": {},
   "outputs": [],
   "source": [
    "from matplotlib import pyplot as plt"
   ]
  },
  {
   "cell_type": "code",
   "execution_count": 69,
   "metadata": {},
   "outputs": [
    {
     "data": {
      "image/png": "[encoded data removed]",
      "text/plain": [
       "<Figure size 432x288 with 1 Axes>"
      ]
     },
     "metadata": {
      "needs_background": "light"
     },
     "output_type": "display_data"
    }
   ],
   "source": [
    "plt.bar(range(0,5), np.exp(model(X_dash).detach().cpu().numpy()[0]), alpha=0.5);"
   ]
  },
  {
   "cell_type": "markdown",
   "metadata": {},
   "source": [
    "## Training the Model"
   ]
  },
  {
   "cell_type": "code",
   "execution_count": 87,
   "metadata": {},
   "outputs": [],
   "source": [
    "from torch import optim"
   ]
  },
  {
   "cell_type": "code",
   "execution_count": 88,
   "metadata": {},
   "outputs": [],
   "source": [
    "optimizer = optim.SGD(model.parameters(), lr=0.02, nesterov=True, momentum=0.1)\n",
    "#optimizer = optim.SGD(model.parameters(), lr=0.05)"
   ]
  },
  {
   "cell_type": "code",
   "execution_count": 89,
   "metadata": {},
   "outputs": [],
   "source": [
    "criterion = nn.NLLLoss()"
   ]
  },
  {
   "cell_type": "code",
   "execution_count": 90,
   "metadata": {},
   "outputs": [
    {
     "name": "stdout",
     "output_type": "stream",
     "text": [
      "Epoch: 1/50\n",
      " Training Loss: 0.015\n",
      " Training Accuracy: 0.925\n",
      " Validation Loss: 0.048\n",
      " Validation Accuracy: 0.345\n",
      "\n",
      "Epoch: 2/50\n",
      " Training Loss: 0.013\n",
      " Training Accuracy: 0.936\n",
      " Validation Loss: 0.049\n",
      " Validation Accuracy: 0.348\n",
      "\n",
      "Epoch: 3/50\n",
      " Training Loss: 0.012\n",
      " Training Accuracy: 0.944\n",
      " Validation Loss: 0.049\n",
      " Validation Accuracy: 0.345\n",
      "\n",
      "Epoch: 4/50\n",
      " Training Loss: 0.011\n",
      " Training Accuracy: 0.950\n",
      " Validation Loss: 0.050\n",
      " Validation Accuracy: 0.344\n",
      "\n",
      "Epoch: 5/50\n",
      " Training Loss: 0.011\n",
      " Training Accuracy: 0.959\n",
      " Validation Loss: 0.051\n",
      " Validation Accuracy: 0.346\n",
      "\n",
      "Epoch: 6/50\n",
      " Training Loss: 0.010\n",
      " Training Accuracy: 0.964\n",
      " Validation Loss: 0.051\n",
      " Validation Accuracy: 0.341\n",
      "\n",
      "Epoch: 7/50\n",
      " Training Loss: 0.009\n",
      " Training Accuracy: 0.969\n",
      " Validation Loss: 0.052\n",
      " Validation Accuracy: 0.354\n",
      "\n",
      "Epoch: 8/50\n",
      " Training Loss: 0.008\n",
      " Training Accuracy: 0.975\n",
      " Validation Loss: 0.052\n",
      " Validation Accuracy: 0.348\n",
      "\n",
      "Epoch: 9/50\n",
      " Training Loss: 0.008\n",
      " Training Accuracy: 0.977\n",
      " Validation Loss: 0.053\n",
      " Validation Accuracy: 0.346\n",
      "\n",
      "Epoch: 10/50\n",
      " Training Loss: 0.007\n",
      " Training Accuracy: 0.982\n",
      " Validation Loss: 0.054\n",
      " Validation Accuracy: 0.343\n",
      "\n",
      "Epoch: 11/50\n",
      " Training Loss: 0.007\n",
      " Training Accuracy: 0.986\n",
      " Validation Loss: 0.054\n",
      " Validation Accuracy: 0.340\n",
      "\n",
      "Epoch: 12/50\n",
      " Training Loss: 0.006\n",
      " Training Accuracy: 0.986\n",
      " Validation Loss: 0.055\n",
      " Validation Accuracy: 0.344\n",
      "\n",
      "Epoch: 13/50\n",
      " Training Loss: 0.006\n",
      " Training Accuracy: 0.990\n",
      " Validation Loss: 0.055\n",
      " Validation Accuracy: 0.347\n",
      "\n",
      "Epoch: 14/50\n",
      " Training Loss: 0.005\n",
      " Training Accuracy: 0.991\n",
      " Validation Loss: 0.056\n",
      " Validation Accuracy: 0.341\n",
      "\n",
      "Epoch: 15/50\n",
      " Training Loss: 0.005\n",
      " Training Accuracy: 0.992\n",
      " Validation Loss: 0.057\n",
      " Validation Accuracy: 0.342\n",
      "\n",
      "Epoch: 16/50\n",
      " Training Loss: 0.005\n",
      " Training Accuracy: 0.994\n",
      " Validation Loss: 0.057\n",
      " Validation Accuracy: 0.347\n",
      "\n",
      "Epoch: 17/50\n",
      " Training Loss: 0.005\n",
      " Training Accuracy: 0.994\n",
      " Validation Loss: 0.058\n",
      " Validation Accuracy: 0.343\n",
      "\n",
      "Epoch: 18/50\n",
      " Training Loss: 0.004\n",
      " Training Accuracy: 0.995\n",
      " Validation Loss: 0.059\n",
      " Validation Accuracy: 0.340\n",
      "\n",
      "Epoch: 19/50\n",
      " Training Loss: 0.004\n",
      " Training Accuracy: 0.996\n",
      " Validation Loss: 0.059\n",
      " Validation Accuracy: 0.345\n",
      "\n",
      "Epoch: 20/50\n",
      " Training Loss: 0.004\n",
      " Training Accuracy: 0.997\n",
      " Validation Loss: 0.059\n",
      " Validation Accuracy: 0.341\n",
      "\n",
      "Epoch: 21/50\n",
      " Training Loss: 0.004\n",
      " Training Accuracy: 0.997\n",
      " Validation Loss: 0.060\n",
      " Validation Accuracy: 0.344\n",
      "\n",
      "Epoch: 22/50\n",
      " Training Loss: 0.003\n",
      " Training Accuracy: 0.997\n",
      " Validation Loss: 0.060\n",
      " Validation Accuracy: 0.342\n",
      "\n",
      "Epoch: 23/50\n",
      " Training Loss: 0.003\n",
      " Training Accuracy: 0.998\n",
      " Validation Loss: 0.061\n",
      " Validation Accuracy: 0.345\n",
      "\n",
      "Epoch: 24/50\n",
      " Training Loss: 0.003\n",
      " Training Accuracy: 0.998\n",
      " Validation Loss: 0.062\n",
      " Validation Accuracy: 0.342\n",
      "\n",
      "Epoch: 25/50\n",
      " Training Loss: 0.003\n",
      " Training Accuracy: 0.998\n",
      " Validation Loss: 0.062\n",
      " Validation Accuracy: 0.344\n",
      "\n",
      "Epoch: 26/50\n",
      " Training Loss: 0.003\n",
      " Training Accuracy: 0.999\n",
      " Validation Loss: 0.062\n",
      " Validation Accuracy: 0.341\n",
      "\n",
      "Epoch: 27/50\n",
      " Training Loss: 0.003\n",
      " Training Accuracy: 0.999\n",
      " Validation Loss: 0.063\n",
      " Validation Accuracy: 0.344\n",
      "\n",
      "Epoch: 28/50\n",
      " Training Loss: 0.003\n",
      " Training Accuracy: 0.999\n",
      " Validation Loss: 0.063\n",
      " Validation Accuracy: 0.346\n",
      "\n",
      "Epoch: 29/50\n",
      " Training Loss: 0.002\n",
      " Training Accuracy: 0.999\n",
      " Validation Loss: 0.064\n",
      " Validation Accuracy: 0.345\n",
      "\n",
      "Epoch: 30/50\n",
      " Training Loss: 0.002\n",
      " Training Accuracy: 0.999\n",
      " Validation Loss: 0.064\n",
      " Validation Accuracy: 0.345\n",
      "\n",
      "Epoch: 31/50\n",
      " Training Loss: 0.002\n",
      " Training Accuracy: 1.000\n",
      " Validation Loss: 0.065\n",
      " Validation Accuracy: 0.349\n",
      "\n",
      "Epoch: 32/50\n",
      " Training Loss: 0.002\n",
      " Training Accuracy: 1.000\n",
      " Validation Loss: 0.065\n",
      " Validation Accuracy: 0.344\n",
      "\n",
      "Epoch: 33/50\n",
      " Training Loss: 0.002\n",
      " Training Accuracy: 1.000\n",
      " Validation Loss: 0.066\n",
      " Validation Accuracy: 0.345\n",
      "\n",
      "Epoch: 34/50\n",
      " Training Loss: 0.002\n",
      " Training Accuracy: 1.000\n",
      " Validation Loss: 0.066\n",
      " Validation Accuracy: 0.344\n",
      "\n",
      "Epoch: 35/50\n",
      " Training Loss: 0.002\n",
      " Training Accuracy: 1.000\n",
      " Validation Loss: 0.067\n",
      " Validation Accuracy: 0.343\n",
      "\n",
      "Epoch: 36/50\n",
      " Training Loss: 0.002\n",
      " Training Accuracy: 1.000\n",
      " Validation Loss: 0.067\n",
      " Validation Accuracy: 0.345\n",
      "\n",
      "Epoch: 37/50\n",
      " Training Loss: 0.002\n",
      " Training Accuracy: 1.000\n",
      " Validation Loss: 0.067\n",
      " Validation Accuracy: 0.345\n",
      "\n",
      "Epoch: 38/50\n",
      " Training Loss: 0.002\n",
      " Training Accuracy: 1.000\n",
      " Validation Loss: 0.068\n",
      " Validation Accuracy: 0.345\n",
      "\n",
      "Epoch: 39/50\n",
      " Training Loss: 0.002\n",
      " Training Accuracy: 1.000\n",
      " Validation Loss: 0.068\n",
      " Validation Accuracy: 0.346\n",
      "\n",
      "Epoch: 40/50\n",
      " Training Loss: 0.002\n",
      " Training Accuracy: 1.000\n",
      " Validation Loss: 0.069\n",
      " Validation Accuracy: 0.343\n",
      "\n",
      "Epoch: 41/50\n",
      " Training Loss: 0.001\n",
      " Training Accuracy: 1.000\n",
      " Validation Loss: 0.069\n",
      " Validation Accuracy: 0.346\n",
      "\n",
      "Epoch: 42/50\n",
      " Training Loss: 0.001\n",
      " Training Accuracy: 1.000\n",
      " Validation Loss: 0.069\n",
      " Validation Accuracy: 0.345\n",
      "\n",
      "Epoch: 43/50\n",
      " Training Loss: 0.001\n",
      " Training Accuracy: 1.000\n",
      " Validation Loss: 0.070\n",
      " Validation Accuracy: 0.344\n",
      "\n",
      "Epoch: 44/50\n",
      " Training Loss: 0.001\n",
      " Training Accuracy: 1.000\n",
      " Validation Loss: 0.070\n",
      " Validation Accuracy: 0.345\n",
      "\n",
      "Epoch: 45/50\n",
      " Training Loss: 0.001\n",
      " Training Accuracy: 1.000\n",
      " Validation Loss: 0.070\n",
      " Validation Accuracy: 0.344\n",
      "\n",
      "Epoch: 46/50\n",
      " Training Loss: 0.001\n",
      " Training Accuracy: 1.000\n",
      " Validation Loss: 0.071\n",
      " Validation Accuracy: 0.345\n",
      "\n",
      "Epoch: 47/50\n",
      " Training Loss: 0.001\n",
      " Training Accuracy: 1.000\n",
      " Validation Loss: 0.071\n",
      " Validation Accuracy: 0.344\n",
      "\n",
      "Epoch: 48/50\n",
      " Training Loss: 0.001\n",
      " Training Accuracy: 1.000\n",
      " Validation Loss: 0.071\n",
      " Validation Accuracy: 0.344\n",
      "\n",
      "Epoch: 49/50\n",
      " Training Loss: 0.001\n",
      " Training Accuracy: 1.000\n",
      " Validation Loss: 0.072\n",
      " Validation Accuracy: 0.343\n",
      "\n",
      "Epoch: 50/50\n",
      " Training Loss: 0.001\n",
      " Training Accuracy: 1.000\n",
      " Validation Loss: 0.072\n",
      " Validation Accuracy: 0.344\n",
      "\n",
      "CPU times: user 1min 16s, sys: 21.5 s, total: 1min 38s\n",
      "Wall time: 1min 41s\n"
     ]
    }
   ],
   "source": [
    "%%time\n",
    "\n",
    "epochs = 50\n",
    "\n",
    "train_losses, train_accuracies, validation_losses, validation_accuracies = [], [], [], []\n",
    "\n",
    "for e in range(epochs):\n",
    "    \n",
    "    training_loss = 0\n",
    "    training_accuracy = 0\n",
    "    \n",
    "    for X, Y in dataloader_train:\n",
    "        X = X.cuda()\n",
    "        Y = Y.cuda()\n",
    "    \n",
    "        # Reset Gradients\n",
    "        optimizer.zero_grad()\n",
    "        \n",
    "        # Forward, Loss, Backwards, Update\n",
    "        output = model(X)\n",
    "        loss = criterion(output, Y)\n",
    "        loss.backward()\n",
    "        optimizer.step()\n",
    "        \n",
    "        # Calculate Metrics\n",
    "        training_loss += loss.item()\n",
    "        training_accuracy += torch.sum(torch.exp(output).topk(1)[1].view(-1) == Y).item()\n",
    "        \n",
    "    else:\n",
    "        validation_loss = 0\n",
    "        validation_accuracy = 0\n",
    "        \n",
    "        with torch.no_grad():\n",
    "            for X, Y in dataloader_val:\n",
    "                X = X.cuda()\n",
    "                Y = Y.cuda()  \n",
    "                \n",
    "                output_validation = model(X)\n",
    "                loss_val = criterion(output_validation, Y)\n",
    "                validation_loss += loss_val.item()\n",
    "                validation_accuracy += torch.sum(torch.exp(output_validation).topk(1, dim=1)[1].view(-1) == Y).item()\n",
    "        \n",
    "        training_loss /= len(train_data)\n",
    "        training_accuracy /= len(train_data)\n",
    "        validation_loss /= len(val_data)\n",
    "        validation_accuracy /= len(val_data)\n",
    "        \n",
    "        # Saving metrics\n",
    "        train_losses.append(training_loss)\n",
    "        train_accuracies.append(training_accuracy)\n",
    "        validation_losses.append(validation_loss)\n",
    "        validation_accuracies.append(validation_accuracy)\n",
    "        \n",
    "        print(\"Epoch: {}/{}\\n\".format(e+1, epochs),\n",
    "              \"Training Loss: {:.3f}\\n\".format(training_loss),\n",
    "              \"Training Accuracy: {:.3f}\\n\".format(training_accuracy),\n",
    "              \"Validation Loss: {:.3f}\\n\".format(validation_loss),\n",
    "              \"Validation Accuracy: {:.3f}\\n\".format(validation_accuracy))"
   ]
  },
  {
   "cell_type": "code",
   "execution_count": 91,
   "metadata": {},
   "outputs": [
    {
     "data": {
      "image/png": "[encoded data removed]",
      "text/plain": [
       "<Figure size 432x288 with 1 Axes>"
      ]
     },
     "metadata": {
      "needs_background": "light"
     },
     "output_type": "display_data"
    }
   ],
   "source": [
    "plt.bar(range(0,5), np.exp(model(X_dash).detach().cpu().numpy()[0]), alpha=0.5);"
   ]
  },
  {
   "cell_type": "code",
   "execution_count": 92,
   "metadata": {},
   "outputs": [
    {
     "data": {
      "text/plain": [
       "tensor(2, device='cuda:0')"
      ]
     },
     "execution_count": 92,
     "metadata": {},
     "output_type": "execute_result"
    }
   ],
   "source": [
    "Y_dash[0]"
   ]
  },
  {
   "cell_type": "code",
   "execution_count": 93,
   "metadata": {},
   "outputs": [],
   "source": [
    "xt, yt = row2tensor(train_data[4])"
   ]
  },
  {
   "cell_type": "code",
   "execution_count": 94,
   "metadata": {},
   "outputs": [],
   "source": [
    "XT = torch.LongTensor(xt)"
   ]
  },
  {
   "cell_type": "code",
   "execution_count": 95,
   "metadata": {},
   "outputs": [],
   "source": [
    "XT = XT.view(1, 200)"
   ]
  },
  {
   "cell_type": "code",
   "execution_count": 96,
   "metadata": {},
   "outputs": [
    {
     "data": {
      "text/plain": [
       "torch.Size([1, 200])"
      ]
     },
     "execution_count": 96,
     "metadata": {},
     "output_type": "execute_result"
    }
   ],
   "source": [
    "XT.shape"
   ]
  },
  {
   "cell_type": "code",
   "execution_count": 97,
   "metadata": {},
   "outputs": [
    {
     "data": {
      "text/plain": [
       "tensor([[ -8.2089,  -0.0121,  -6.7197,  -4.5520, -11.2555]],\n",
       "       device='cuda:0', grad_fn=<LogSoftmaxBackward>)"
      ]
     },
     "execution_count": 97,
     "metadata": {},
     "output_type": "execute_result"
    }
   ],
   "source": [
    "model(XT.cuda())"
   ]
  },
  {
   "cell_type": "code",
   "execution_count": 98,
   "metadata": {},
   "outputs": [
    {
     "data": {
      "image/png": "[encoded data removed]",
      "text/plain": [
       "<Figure size 432x288 with 1 Axes>"
      ]
     },
     "metadata": {
      "needs_background": "light"
     },
     "output_type": "display_data"
    }
   ],
   "source": [
    "plt.bar(range(0,5), np.exp(model(XT.cuda()).detach().cpu().numpy()[0]), alpha=0.5);"
   ]
  },
  {
   "cell_type": "code",
   "execution_count": 99,
   "metadata": {},
   "outputs": [
    {
     "data": {
      "text/plain": [
       "1"
      ]
     },
     "execution_count": 99,
     "metadata": {},
     "output_type": "execute_result"
    }
   ],
   "source": [
    "yt"
   ]
  },
  {
   "cell_type": "code",
   "execution_count": 100,
   "metadata": {},
   "outputs": [
    {
     "data": {
      "text/plain": [
       "[0.014709501173963833,\n",
       " 0.01349206023787794,\n",
       " 0.012458358043813147,\n",
       " 0.011465768429181232,\n",
       " 0.010573313076837813,\n",
       " 0.00977781642102065,\n",
       " 0.009051508247011815,\n",
       " 0.008402174553855418,\n",
       " 0.007783308231791254,\n",
       " 0.007241359747091595,\n",
       " 0.006740789957726785,\n",
       " 0.006295383177717777,\n",
       " 0.005872905480884316,\n",
       " 0.0054968489435138984,\n",
       " 0.0051494392648626895,\n",
       " 0.004823763810559409,\n",
       " 0.004533834101939418,\n",
       " 0.004271358636805196,\n",
       " 0.004027835274412699,\n",
       " 0.003803375380040884,\n",
       " 0.0035919154012384433,\n",
       " 0.0033987044143562305,\n",
       " 0.0032162870740470844,\n",
       " 0.003054722431230836,\n",
       " 0.0029035500849750187,\n",
       " 0.0027658490162126327,\n",
       " 0.002626661432929153,\n",
       " 0.002504355961805058,\n",
       " 0.002385854863017091,\n",
       " 0.0022875856101834805,\n",
       " 0.0021822267185987168,\n",
       " 0.0020917704896499354,\n",
       " 0.002010312112438904,\n",
       " 0.0019233751699666713,\n",
       " 0.0018442432028297807,\n",
       " 0.0017733231920077212,\n",
       " 0.0017070393383067802,\n",
       " 0.0016443995368255354,\n",
       " 0.0015832923549433352,\n",
       " 0.001532686818199213,\n",
       " 0.0014791614444467566,\n",
       " 0.0014255726733247284,\n",
       " 0.0013780680680015062,\n",
       " 0.0013329615917625707,\n",
       " 0.001293761853334701,\n",
       " 0.0012517003628453895,\n",
       " 0.001212573602329148,\n",
       " 0.0011765145544785716,\n",
       " 0.0011406778502758175,\n",
       " 0.001108519430055727]"
      ]
     },
     "execution_count": 100,
     "metadata": {},
     "output_type": "execute_result"
    }
   ],
   "source": [
    "train_losses"
   ]
  },
  {
   "cell_type": "code",
   "execution_count": 101,
   "metadata": {},
   "outputs": [
    {
     "data": {
      "image/png": "[encoded data removed]",
      "text/plain": [
       "<Figure size 432x288 with 1 Axes>"
      ]
     },
     "metadata": {
      "needs_background": "light"
     },
     "output_type": "display_data"
    }
   ],
   "source": [
    "plt.plot(train_losses, label='Training loss')\n",
    "plt.plot(validation_losses, label='Validation loss')\n",
    "plt.legend(frameon=False);"
   ]
  },
  {
   "cell_type": "code",
   "execution_count": 102,
   "metadata": {},
   "outputs": [
    {
     "data": {
      "image/png": "[encoded data removed]",
      "text/plain": [
       "<Figure size 432x288 with 1 Axes>"
      ]
     },
     "metadata": {
      "needs_background": "light"
     },
     "output_type": "display_data"
    }
   ],
   "source": [
    "plt.plot(train_accuracies, label='Training Accuracy')\n",
    "plt.plot(validation_accuracies, label='Validation Accuracy')\n",
    "plt.legend(frameon=False);"
   ]
  },
  {
   "cell_type": "markdown",
   "metadata": {},
   "source": [
    "# Old"
   ]
  },
  {
   "cell_type": "code",
   "execution_count": null,
   "metadata": {},
   "outputs": [],
   "source": [
    "import pandas as pd "
   ]
  },
  {
   "cell_type": "code",
   "execution_count": null,
   "metadata": {},
   "outputs": [],
   "source": [
    "train = pd.read_csv(\"/home/flennic/git/text-mining-project/src/data/processed/train.csv\", header=None)\n",
    "test = pd.read_csv(\"/home/flennic/git/text-mining-project/src/data/processed/test.csv\", header=None) "
   ]
  },
  {
   "cell_type": "code",
   "execution_count": null,
   "metadata": {},
   "outputs": [],
   "source": [
    "train.head()"
   ]
  },
  {
   "cell_type": "code",
   "execution_count": null,
   "metadata": {},
   "outputs": [],
   "source": [
    "test.head()"
   ]
  },
  {
   "cell_type": "code",
   "execution_count": null,
   "metadata": {},
   "outputs": [],
   "source": [
    "import logging\n",
    "import torch\n",
    "from transformers import BertTokenizer, BertModel, BertForSequenceClassification\n",
    "\n",
    "logger = logging.getLogger(__name__)\n",
    "\n",
    "# Load pre-trained model tokenizer (vocabulary)\n",
    "tokenizer = BertTokenizer.from_pretrained('bert-base-uncased')"
   ]
  },
  {
   "cell_type": "code",
   "execution_count": null,
   "metadata": {},
   "outputs": [],
   "source": [
    "model = BertForSequenceClassification.from_pretrained('bert-base-uncased', num_labels=5)"
   ]
  },
  {
   "cell_type": "code",
   "execution_count": null,
   "metadata": {},
   "outputs": [],
   "source": [
    "model.config"
   ]
  },
  {
   "cell_type": "code",
   "execution_count": null,
   "metadata": {},
   "outputs": [],
   "source": [
    "model.eval();"
   ]
  },
  {
   "cell_type": "code",
   "execution_count": null,
   "metadata": {},
   "outputs": [],
   "source": [
    "model.to('cuda');"
   ]
  },
  {
   "cell_type": "code",
   "execution_count": null,
   "metadata": {},
   "outputs": [],
   "source": [
    "input_ids1 = torch.tensor(tokenizer.encode(\"Hello, my dog is cute\".lower(), add_special_tokens=True)).unsqueeze(0).to('cuda')  # Batch size 1\n",
    "input_ids2 = torch.tensor(tokenizer.encode(\"Hello, my cat is ugly\".lower(), add_special_tokens=True)).unsqueeze(0).to('cuda')  # Batch size 1"
   ]
  },
  {
   "cell_type": "code",
   "execution_count": null,
   "metadata": {},
   "outputs": [],
   "source": [
    "input_ids1.shape"
   ]
  },
  {
   "cell_type": "code",
   "execution_count": null,
   "metadata": {},
   "outputs": [],
   "source": [
    "input_ids = torch.cat((input_ids1, input_ids2))"
   ]
  },
  {
   "cell_type": "code",
   "execution_count": null,
   "metadata": {},
   "outputs": [],
   "source": [
    "input_ids.shape"
   ]
  },
  {
   "cell_type": "code",
   "execution_count": null,
   "metadata": {},
   "outputs": [],
   "source": [
    "labels = torch.tensor([0, 1]).unsqueeze(0).to('cuda')   # Batch size 1"
   ]
  },
  {
   "cell_type": "code",
   "execution_count": null,
   "metadata": {},
   "outputs": [],
   "source": [
    "labels"
   ]
  },
  {
   "cell_type": "code",
   "execution_count": null,
   "metadata": {},
   "outputs": [],
   "source": [
    "outputs = model(input_ids, labels=labels)"
   ]
  },
  {
   "cell_type": "code",
   "execution_count": null,
   "metadata": {},
   "outputs": [],
   "source": [
    "outputs"
   ]
  },
  {
   "cell_type": "code",
   "execution_count": null,
   "metadata": {},
   "outputs": [],
   "source": [
    "loss, logits = outputs[:2]"
   ]
  },
  {
   "cell_type": "code",
   "execution_count": null,
   "metadata": {},
   "outputs": [],
   "source": [
    "import numpy as np"
   ]
  },
  {
   "cell_type": "code",
   "execution_count": null,
   "metadata": {},
   "outputs": [],
   "source": [
    "np.exp(logits.detach().cpu().numpy())"
   ]
  },
  {
   "cell_type": "code",
   "execution_count": null,
   "metadata": {},
   "outputs": [],
   "source": [
    "outputs = model(input_ids)"
   ]
  },
  {
   "cell_type": "code",
   "execution_count": null,
   "metadata": {},
   "outputs": [],
   "source": [
    "outputs"
   ]
  },
  {
   "cell_type": "markdown",
   "metadata": {},
   "source": [
    "## Raw BERT"
   ]
  },
  {
   "cell_type": "code",
   "execution_count": null,
   "metadata": {},
   "outputs": [],
   "source": [
    "model = BertModel.from_pretrained('bert-base-uncased')"
   ]
  },
  {
   "cell_type": "code",
   "execution_count": null,
   "metadata": {},
   "outputs": [],
   "source": [
    "model.config"
   ]
  },
  {
   "cell_type": "code",
   "execution_count": null,
   "metadata": {},
   "outputs": [],
   "source": [
    "model.eval();"
   ]
  },
  {
   "cell_type": "code",
   "execution_count": null,
   "metadata": {},
   "outputs": [],
   "source": [
    "model.to('cuda');"
   ]
  },
  {
   "cell_type": "code",
   "execution_count": null,
   "metadata": {},
   "outputs": [],
   "source": [
    "tokenizer = BertTokenizer.from_pretrained('bert-base-uncased', output_hidden_states=True)\n",
    "input_ids = torch.tensor(tokenizer.encode(\"Hello, my dog is cute\", add_special_tokens=True)).unsqueeze(0).to('cuda')  # Batch size 1\n",
    "outputs = model(input_ids)\n",
    "last_hidden_states = outputs[0]  # The last hidden-state is the first element of the output tuple"
   ]
  },
  {
   "cell_type": "code",
   "execution_count": null,
   "metadata": {},
   "outputs": [],
   "source": [
    "tokenizer.tokenize(\"Hello, my dog is cute\")"
   ]
  },
  {
   "cell_type": "code",
   "execution_count": null,
   "metadata": {},
   "outputs": [],
   "source": [
    "tokenizer.cls_token"
   ]
  },
  {
   "cell_type": "code",
   "execution_count": null,
   "metadata": {},
   "outputs": [],
   "source": [
    "tokenizer.convert_tokens_to_ids(\"[CLS]\")"
   ]
  },
  {
   "cell_type": "code",
   "execution_count": null,
   "metadata": {},
   "outputs": [],
   "source": [
    "input_ids"
   ]
  },
  {
   "cell_type": "code",
   "execution_count": null,
   "metadata": {},
   "outputs": [],
   "source": [
    "outputs[1].shape"
   ]
  },
  {
   "cell_type": "code",
   "execution_count": null,
   "metadata": {},
   "outputs": [],
   "source": [
    "outputs[0].shape"
   ]
  },
  {
   "cell_type": "code",
   "execution_count": null,
   "metadata": {},
   "outputs": [],
   "source": [
    "outputs[0][0, 0,:].shape"
   ]
  },
  {
   "cell_type": "code",
   "execution_count": null,
   "metadata": {},
   "outputs": [],
   "source": [
    "a = (\"a\", \"b\", \"c\")"
   ]
  },
  {
   "cell_type": "code",
   "execution_count": null,
   "metadata": {},
   "outputs": [],
   "source": [
    "b = (1, 2) + a"
   ]
  },
  {
   "cell_type": "code",
   "execution_count": null,
   "metadata": {},
   "outputs": [],
   "source": [
    "b"
   ]
  },
  {
   "cell_type": "code",
   "execution_count": null,
   "metadata": {},
   "outputs": [],
   "source": [
    "from gensim.models import KeyedVectors"
   ]
  },
  {
   "cell_type": "code",
   "execution_count": null,
   "metadata": {},
   "outputs": [],
   "source": [
    "!pwd"
   ]
  },
  {
   "cell_type": "code",
   "execution_count": null,
   "metadata": {},
   "outputs": [],
   "source": [
    "model = KeyedVectors.load_word2vec_format('src/data/embeddings/GoogleNews-vectors-negative300.bin', binary=True)"
   ]
  },
  {
   "cell_type": "code",
   "execution_count": null,
   "metadata": {},
   "outputs": [],
   "source": [
    "model[\"hello\"].shape"
   ]
  },
  {
   "cell_type": "code",
   "execution_count": null,
   "metadata": {},
   "outputs": [],
   "source": []
  }
 ],
 "metadata": {
  "kernelspec": {
   "display_name": "Python 3",
   "language": "python",
   "name": "python3"
  },
  "language_info": {
   "codemirror_mode": {
    "name": "ipython",
    "version": 3
   },
   "file_extension": ".py",
   "mimetype": "text/x-python",
   "name": "python",
   "nbconvert_exporter": "python",
   "pygments_lexer": "ipython3",
   "version": "3.7.5"
  }
 },
 "nbformat": 4,
 "nbformat_minor": 4
}
