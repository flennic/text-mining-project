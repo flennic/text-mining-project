{
 "cells": [
  {
   "cell_type": "markdown",
   "metadata": {},
   "source": [
    "# Improved Pre-Processing"
   ]
  },
  {
   "cell_type": "code",
   "execution_count": 1,
   "metadata": {},
   "outputs": [
    {
     "name": "stdout",
     "output_type": "stream",
     "text": [
      "readme.txt  test.csv  train.csv\n"
     ]
    }
   ],
   "source": [
    "!ls ../src/data/original"
   ]
  },
  {
   "cell_type": "code",
   "execution_count": 2,
   "metadata": {},
   "outputs": [],
   "source": [
    "orig_train_path =  u\"../src/data/original/train.csv\"\n",
    "orig_test_path = u\"../src/data/original/test.csv\"\n",
    "orig_output_path =  u\"../src/data/processed/data.csv\""
   ]
  },
  {
   "cell_type": "code",
   "execution_count": 3,
   "metadata": {},
   "outputs": [],
   "source": [
    "import pandas as pd\n",
    "import gc\n",
    "import csv"
   ]
  },
  {
   "cell_type": "code",
   "execution_count": 4,
   "metadata": {},
   "outputs": [],
   "source": [
    "#%%time\n",
    "\n",
    "#with open(orig_train_path) as csv_file:\n",
    "#    csv_reader = csv.reader(csv_file, delimiter=',')\n",
    "#    train_orig = [(int(row[0]), row[2]) for row in csv_reader]\n",
    "#    del csv_reader\n",
    "    \n",
    "#with open(orig_test_path) as csv_file:\n",
    "#    csv_reader = csv.reader(csv_file, delimiter=',')\n",
    "#    test_orig = [(int(row[0]), row[2]) for row in csv_reader]\n",
    "#    del csv_reader"
   ]
  },
  {
   "cell_type": "code",
   "execution_count": 5,
   "metadata": {},
   "outputs": [
    {
     "name": "stdout",
     "output_type": "stream",
     "text": [
      "CPU times: user 24.5 s, sys: 1.31 s, total: 25.8 s\n",
      "Wall time: 22.1 s\n"
     ]
    }
   ],
   "source": [
    "%%time\n",
    "train = pd.read_csv(orig_train_path, header=None)\n",
    "test = pd.read_csv(orig_test_path, header=None)\n",
    "\n",
    "data = pd.concat([train, test])\n",
    "\n",
    "del train, test\n",
    "\n",
    "data.columns = [\"label\", \"title\", \"review\"]\n",
    "data.drop(columns=['title'], inplace=True)\n",
    "data[\"label\"] = data[\"label\"] - 1\n",
    "data = data.sample(frac=1, random_state=42).reset_index(drop=True)\n",
    "data = data.values.tolist()"
   ]
  },
  {
   "cell_type": "code",
   "execution_count": 6,
   "metadata": {},
   "outputs": [],
   "source": [
    "#data = train_orig + test_orig\n",
    "#del train_orig\n",
    "#del test_orig\n",
    "#print(len(data))\n",
    "#data[0]"
   ]
  },
  {
   "cell_type": "code",
   "execution_count": 7,
   "metadata": {},
   "outputs": [],
   "source": [
    "from transformers import BertTokenizer"
   ]
  },
  {
   "cell_type": "code",
   "execution_count": 8,
   "metadata": {},
   "outputs": [
    {
     "name": "stdout",
     "output_type": "stream",
     "text": [
      "CPU times: user 43.5 ms, sys: 12 ms, total: 55.5 ms\n",
      "Wall time: 603 ms\n"
     ]
    }
   ],
   "source": [
    "%%time\n",
    "tokenizerBert = BertTokenizer.from_pretrained('bert-base-uncased')"
   ]
  },
  {
   "cell_type": "code",
   "execution_count": 9,
   "metadata": {},
   "outputs": [
    {
     "name": "stdout",
     "output_type": "stream",
     "text": [
      "CPU times: user 31.2 s, sys: 2.3 s, total: 33.5 s\n",
      "Wall time: 32.3 s\n"
     ]
    }
   ],
   "source": [
    "%%time\n",
    "import gensim\n",
    "import numpy as np\n",
    "embedding_model = gensim.models.KeyedVectors.load_word2vec_format('../src/data/embeddings/GoogleNews-vectors-negative300.bin', binary=True, limit=1_000_000)\n",
    "embedding_model.add(tokenizerBert._unk_token, np.mean(embedding_model.vectors, axis=0),replace=False)\n",
    "embedding_model.add(tokenizerBert._pad_token, np.zeros(300),replace=False)"
   ]
  },
  {
   "cell_type": "code",
   "execution_count": 10,
   "metadata": {},
   "outputs": [],
   "source": [
    "def preprocess(row, padding=200,\n",
    "               tokenizer=tokenizerBert,\n",
    "               embedder=embedding_model,\n",
    "               unk_token=tokenizerBert._unk_token,\n",
    "               pad_token=tokenizerBert._pad_token):\n",
    "\n",
    "    # row = [label, review]\n",
    "    \n",
    "    # Tokenize\n",
    "    sentence = tokenizer.tokenize(row[1][:padding])\n",
    "\n",
    "    # Pad\n",
    "    sentence = sentence + [pad_token]*(padding - len(sentence))\n",
    "    \n",
    "    # Unknown words\n",
    "    filled_sentence = [word if embedder.vocab.get(word) is not None else unk_token for word in sentence]\n",
    "    \n",
    "    # To indeces\n",
    "    sentence_as_int = [embedder.vocab.get(word).index for word in filled_sentence]\n",
    "\n",
    "    # X, Y\n",
    "    return sentence_as_int, row[0]"
   ]
  },
  {
   "cell_type": "code",
   "execution_count": 11,
   "metadata": {},
   "outputs": [],
   "source": [
    "import multiprocessing as mp"
   ]
  },
  {
   "cell_type": "code",
   "execution_count": 12,
   "metadata": {},
   "outputs": [
    {
     "name": "stdout",
     "output_type": "stream",
     "text": [
      "4\n",
      "CPU times: user 9min 51s, sys: 1min 25s, total: 11min 17s\n",
      "Wall time: 16min 50s\n"
     ]
    }
   ],
   "source": [
    "%%time\n",
    "cores = max(1, round(mp.cpu_count() / 2))\n",
    "#cores = 8\n",
    "print(cores)\n",
    "pool = mp.Pool(cores)\n",
    "\n",
    "# Parallelizing, will work as long as the processing is not too fast and fillst the memory :o\n",
    "processed_data = pool.imap(preprocess, data)\n",
    "\n",
    "with open(\"data_p-w2v_e-1m_p-200.txt\", \"w\") as out_file:\n",
    "    for X, Y in processed_data:\n",
    "        stringified = [str(entry) for entry in [Y] + X]\n",
    "        out_file.write(\",\".join(stringified) + \"\\n\")\n",
    "    \n",
    "pool.close()\n",
    "pool.join()\n",
    "\n",
    "#data_p = list(map(preprocess, data[:1_000_000]))\n",
    "\n",
    "#while True:\n",
    "#    print(pool._cache)\n",
    "#    time.sleep(5)\n",
    "    \n",
    "#print(\"Before Join\")\n",
    "    \n",
    "#pool.close()\n",
    "#pool.join()\n",
    "\n",
    "#print(\"After Join\")\n",
    "\n",
    "#res = data_p.get()\n",
    "\n",
    "#len(res)"
   ]
  },
  {
   "cell_type": "code",
   "execution_count": 13,
   "metadata": {},
   "outputs": [],
   "source": [
    "del processed_data"
   ]
  },
  {
   "cell_type": "code",
   "execution_count": 14,
   "metadata": {},
   "outputs": [],
   "source": [
    "import gc"
   ]
  },
  {
   "cell_type": "code",
   "execution_count": 15,
   "metadata": {},
   "outputs": [
    {
     "data": {
      "text/plain": [
       "66"
      ]
     },
     "execution_count": 15,
     "metadata": {},
     "output_type": "execute_result"
    }
   ],
   "source": [
    "gc.collect()"
   ]
  },
  {
   "cell_type": "markdown",
   "metadata": {},
   "source": [
    "# Word2Vec Specific"
   ]
  },
  {
   "cell_type": "code",
   "execution_count": null,
   "metadata": {},
   "outputs": [],
   "source": [
    "tokenizerBert._pad_token"
   ]
  },
  {
   "cell_type": "code",
   "execution_count": null,
   "metadata": {},
   "outputs": [],
   "source": [
    "tokenizerBert._unk_token"
   ]
  },
  {
   "cell_type": "code",
   "execution_count": null,
   "metadata": {},
   "outputs": [],
   "source": [
    "%%time\n",
    "import gensim\n",
    "import numpy as np\n",
    "embedding_model = gensim.models.KeyedVectors.load_word2vec_format('../src/data/embeddings/GoogleNews-vectors-negative300.bin', binary=True, limit=2_000_000)\n",
    "embedding_model.add(tokenizerBert._unk_token, np.mean(embedding_model.vectors, axis=0),replace=False)\n",
    "embedding_model.add(tokenizerBert._pad_token, np.zeros(300),replace=False)"
   ]
  },
  {
   "cell_type": "code",
   "execution_count": null,
   "metadata": {},
   "outputs": [],
   "source": [
    "def preprocess_word2vec(row, unk_token=tokenizerBert._unk_token, pad_token=tokenizerBert._pad_token):\n",
    "    #print(type(row[1].tolist()))\n",
    "    #print(row[1].tolist())\n",
    "    sentence = row[1][1:].tolist()\n",
    "    label = row[1][0]\n",
    "    #print(sentence)\n",
    "    filled_sentence = [word if embedding_model.vocab.get(word) is not None else unk_token for word in sentence]\n",
    "    #print(filled_sentence)\n",
    "    sentence_as_int = [embedding_model.vocab.get(word).index for word in filled_sentence]\n",
    "    return sentence_as_int, label # X, Y"
   ]
  },
  {
   "cell_type": "code",
   "execution_count": null,
   "metadata": {},
   "outputs": [],
   "source": [
    "embedding_model.vocab.get(\"[UNK]\")"
   ]
  },
  {
   "cell_type": "markdown",
   "metadata": {},
   "source": [
    "unk_token = tokenizerBert._unk_token\n",
    "for entry in data_p.head(100_000).iterrows():\n",
    "    sentence = entry[1][1:]\n",
    "    filled_sentence = [word if embedding_model.vocab.get(word) is not None else unk_token for word in sentence]"
   ]
  },
  {
   "cell_type": "code",
   "execution_count": null,
   "metadata": {},
   "outputs": [],
   "source": [
    "%%time\n",
    "pool = mp.Pool(mp.cpu_count())\n",
    "print(mp.cpu_count())\n",
    "\n",
    "# Parallelizing using Pool.map()\n",
    "results = pool.map(preprocess_word2vec, data_p.iterrows())\n",
    "\n",
    "pool.close()"
   ]
  },
  {
   "cell_type": "code",
   "execution_count": null,
   "metadata": {},
   "outputs": [],
   "source": [
    "data_pw2v = pd.DataFrame(results)"
   ]
  },
  {
   "cell_type": "code",
   "execution_count": null,
   "metadata": {},
   "outputs": [],
   "source": []
  },
  {
   "cell_type": "code",
   "execution_count": null,
   "metadata": {},
   "outputs": [],
   "source": []
  },
  {
   "cell_type": "code",
   "execution_count": null,
   "metadata": {},
   "outputs": [],
   "source": []
  }
 ],
 "metadata": {
  "kernelspec": {
   "display_name": "Python 3",
   "language": "python",
   "name": "python3"
  },
  "language_info": {
   "codemirror_mode": {
    "name": "ipython",
    "version": 3
   },
   "file_extension": ".py",
   "mimetype": "text/x-python",
   "name": "python",
   "nbconvert_exporter": "python",
   "pygments_lexer": "ipython3",
   "version": "3.7.3"
  }
 },
 "nbformat": 4,
 "nbformat_minor": 4
}
