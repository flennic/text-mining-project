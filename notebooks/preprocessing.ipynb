{
 "cells": [
  {
   "cell_type": "markdown",
   "metadata": {},
   "source": [
    "# Improved Pre-Processing"
   ]
  },
  {
   "cell_type": "code",
   "execution_count": 1,
   "metadata": {},
   "outputs": [
    {
     "name": "stdout",
     "output_type": "stream",
     "text": [
      "readme.txt  test.csv  train.csv\n"
     ]
    }
   ],
   "source": [
    "!ls ../src/data/original"
   ]
  },
  {
   "cell_type": "code",
   "execution_count": 2,
   "metadata": {},
   "outputs": [],
   "source": [
    "import pandas as pd\n",
    "import numpy as np\n",
    "import csv"
   ]
  },
  {
   "cell_type": "code",
   "execution_count": 3,
   "metadata": {},
   "outputs": [],
   "source": [
    "seed = 42"
   ]
  },
  {
   "cell_type": "code",
   "execution_count": 4,
   "metadata": {},
   "outputs": [
    {
     "data": {
      "text/plain": [
       "'p-w2v_e-1m_p-200'"
      ]
     },
     "execution_count": 4,
     "metadata": {},
     "output_type": "execute_result"
    }
   ],
   "source": [
    "splits = np.array([0.85, 0.1, 0.05])\n",
    "indicator = \"w2v\"\n",
    "embedding = \"1m\"\n",
    "padding = \"200\"\n",
    "file_suffix = \"p-{}_e-{}_p-{}\".format(indicator, embedding, padding)\n",
    "file_suffix"
   ]
  },
  {
   "cell_type": "code",
   "execution_count": 18,
   "metadata": {},
   "outputs": [],
   "source": [
    "orig_train_path =  u\"../src/data/original/train.csv\"\n",
    "orig_test_path = u\"../src/data/original/test.csv\"\n",
    "prep_train_path =  u\"../src/data/processed/train_{}_s{}.csv\".format(file_suffix, str(splits[0]))\n",
    "prep_val_path =  u\"../src/data/processed/val_{}_s{}.csv\".format(file_suffix, str(splits[1]))\n",
    "prep_test_path =  u\"../src/data/processed/test_{}_s{}.csv\".format(file_suffix, str(splits[2]))"
   ]
  },
  {
   "cell_type": "code",
   "execution_count": 19,
   "metadata": {},
   "outputs": [
    {
     "data": {
      "text/plain": [
       "'../src/data/processed/train_p-w2v_e-1m_p-200_s0.85.csv'"
      ]
     },
     "execution_count": 19,
     "metadata": {},
     "output_type": "execute_result"
    }
   ],
   "source": [
    "prep_train_path"
   ]
  },
  {
   "cell_type": "code",
   "execution_count": 6,
   "metadata": {},
   "outputs": [
    {
     "name": "stdout",
     "output_type": "stream",
     "text": [
      "CPU times: user 27.1 s, sys: 1.42 s, total: 28.5 s\n",
      "Wall time: 23 s\n"
     ]
    }
   ],
   "source": [
    "%%time\n",
    "train = pd.read_csv(orig_train_path, header=None)\n",
    "test = pd.read_csv(orig_test_path, header=None)\n",
    "\n",
    "data = pd.concat([train, test])\n",
    "\n",
    "del train, test\n",
    "\n",
    "data.columns = [\"label\", \"title\", \"review\"]\n",
    "data.drop(columns=['title'], inplace=True)\n",
    "data[\"label\"] = data[\"label\"] - 1\n",
    "data = data.sample(frac=1, random_state=seed).reset_index(drop=True)\n",
    "train, val, test = np.array_split(data, (splits[:-1].cumsum() * len(data)).astype(int))\n",
    "\n",
    "del data\n",
    "\n",
    "train = train.values.tolist()\n",
    "val = val.values.tolist()\n",
    "test = test.values.tolist()"
   ]
  },
  {
   "cell_type": "code",
   "execution_count": 7,
   "metadata": {},
   "outputs": [],
   "source": [
    "from transformers import BertTokenizer"
   ]
  },
  {
   "cell_type": "code",
   "execution_count": 8,
   "metadata": {},
   "outputs": [
    {
     "name": "stdout",
     "output_type": "stream",
     "text": [
      "CPU times: user 46.3 ms, sys: 8.35 ms, total: 54.6 ms\n",
      "Wall time: 705 ms\n"
     ]
    }
   ],
   "source": [
    "%%time\n",
    "tokenizerBert = BertTokenizer.from_pretrained('bert-base-uncased')"
   ]
  },
  {
   "cell_type": "code",
   "execution_count": 9,
   "metadata": {},
   "outputs": [
    {
     "name": "stdout",
     "output_type": "stream",
     "text": [
      "CPU times: user 31.1 s, sys: 2.24 s, total: 33.3 s\n",
      "Wall time: 32 s\n"
     ]
    }
   ],
   "source": [
    "%%time\n",
    "import gensim\n",
    "import numpy as np\n",
    "embedding_model = gensim.models.KeyedVectors.load_word2vec_format('../src/data/embeddings/GoogleNews-vectors-negative300.bin', binary=True, limit=1_000_000)\n",
    "embedding_model.add(tokenizerBert._unk_token, np.mean(embedding_model.vectors, axis=0),replace=False)\n",
    "embedding_model.add(tokenizerBert._pad_token, np.zeros(300),replace=False)"
   ]
  },
  {
   "cell_type": "code",
   "execution_count": 10,
   "metadata": {},
   "outputs": [],
   "source": [
    "def preprocess(row, padding=200,\n",
    "               tokenizer=tokenizerBert,\n",
    "               embedder=embedding_model,\n",
    "               unk_token=tokenizerBert._unk_token,\n",
    "               pad_token=tokenizerBert._pad_token):\n",
    "\n",
    "    # row = [label, review]\n",
    "    \n",
    "    # Tokenize\n",
    "    sentence = tokenizer.tokenize(row[1][:padding])\n",
    "\n",
    "    # Pad\n",
    "    sentence = sentence + [pad_token]*(padding - len(sentence))\n",
    "    \n",
    "    # Unknown words\n",
    "    filled_sentence = [word if embedder.vocab.get(word) is not None else unk_token for word in sentence]\n",
    "    \n",
    "    # To indeces\n",
    "    sentence_as_int = [embedder.vocab.get(word).index for word in filled_sentence]\n",
    "\n",
    "    # X, Y\n",
    "    return sentence_as_int, row[0]"
   ]
  },
  {
   "cell_type": "code",
   "execution_count": 11,
   "metadata": {},
   "outputs": [],
   "source": [
    "import multiprocessing as mp"
   ]
  },
  {
   "cell_type": "code",
   "execution_count": null,
   "metadata": {},
   "outputs": [],
   "source": [
    "%%time\n",
    "cores = max(1, round(mp.cpu_count() / 2))\n",
    "print(cores)\n",
    "pool = mp.Pool(cores)\n",
    "\n",
    "# Parallelizing, will work as long as the processing is not too fast and fillst the memory :o\n",
    "processed_test = pool.imap(preprocess, test)\n",
    "\n",
    "with open(prep_test_path, \"w\") as out_file:\n",
    "    for X, Y in processed_test:\n",
    "        stringified = [str(entry) for entry in [Y] + X]\n",
    "        out_file.write(\",\".join(stringified) + \"\\n\")\n",
    "    \n",
    "pool.close()\n",
    "pool.join()\n",
    "\n",
    "del test, processed_test"
   ]
  },
  {
   "cell_type": "code",
   "execution_count": 12,
   "metadata": {},
   "outputs": [
    {
     "name": "stdout",
     "output_type": "stream",
     "text": [
      "4\n",
      "CPU times: user 1min 1s, sys: 9.98 s, total: 1min 11s\n",
      "Wall time: 1min 35s\n"
     ]
    }
   ],
   "source": [
    "%%time\n",
    "cores = max(1, round(mp.cpu_count() / 2))\n",
    "print(cores)\n",
    "pool = mp.Pool(cores)\n",
    "\n",
    "# Parallelizing, will work as long as the processing is not too fast and fillst the memory :o\n",
    "processed_val = pool.imap(preprocess, val)\n",
    "\n",
    "with open(prep_val_path, \"w\") as out_file:\n",
    "    for X, Y in processed_val:\n",
    "        stringified = [str(entry) for entry in [Y] + X]\n",
    "        out_file.write(\",\".join(stringified) + \"\\n\")\n",
    "    \n",
    "pool.close()\n",
    "pool.join()\n",
    "\n",
    "del val, processed_val"
   ]
  },
  {
   "cell_type": "code",
   "execution_count": 13,
   "metadata": {},
   "outputs": [
    {
     "name": "stdout",
     "output_type": "stream",
     "text": [
      "4\n",
      "CPU times: user 8min 59s, sys: 1min 17s, total: 10min 17s\n",
      "Wall time: 13min 36s\n"
     ]
    }
   ],
   "source": [
    "%%time\n",
    "cores = max(1, round(mp.cpu_count() / 2))\n",
    "print(cores)\n",
    "pool = mp.Pool(cores)\n",
    "\n",
    "# Parallelizing, will work as long as the processing is not too fast and fillst the memory :o\n",
    "processed_train = pool.imap(preprocess, train)\n",
    "\n",
    "with open(prep_train_path, \"w\") as out_file:\n",
    "    for X, Y in processed_train:\n",
    "        stringified = [str(entry) for entry in [Y] + X]\n",
    "        out_file.write(\",\".join(stringified) + \"\\n\")\n",
    "    \n",
    "pool.close()\n",
    "pool.join()\n",
    "\n",
    "del train, processed_train"
   ]
  },
  {
   "cell_type": "code",
   "execution_count": 14,
   "metadata": {},
   "outputs": [],
   "source": [
    "del embedding_model"
   ]
  },
  {
   "cell_type": "code",
   "execution_count": 16,
   "metadata": {},
   "outputs": [],
   "source": [
    "import gc"
   ]
  },
  {
   "cell_type": "code",
   "execution_count": 17,
   "metadata": {},
   "outputs": [
    {
     "data": {
      "text/plain": [
       "88"
      ]
     },
     "execution_count": 17,
     "metadata": {},
     "output_type": "execute_result"
    }
   ],
   "source": [
    "gc.collect()"
   ]
  },
  {
   "cell_type": "markdown",
   "metadata": {},
   "source": [
    "# Word2Vec Specific"
   ]
  },
  {
   "cell_type": "code",
   "execution_count": null,
   "metadata": {},
   "outputs": [],
   "source": [
    "tokenizerBert._pad_token"
   ]
  },
  {
   "cell_type": "code",
   "execution_count": null,
   "metadata": {},
   "outputs": [],
   "source": [
    "tokenizerBert._unk_token"
   ]
  },
  {
   "cell_type": "code",
   "execution_count": null,
   "metadata": {},
   "outputs": [],
   "source": [
    "%%time\n",
    "import gensim\n",
    "import numpy as np\n",
    "embedding_model = gensim.models.KeyedVectors.load_word2vec_format('../src/data/embeddings/GoogleNews-vectors-negative300.bin', binary=True, limit=2_000_000)\n",
    "embedding_model.add(tokenizerBert._unk_token, np.mean(embedding_model.vectors, axis=0),replace=False)\n",
    "embedding_model.add(tokenizerBert._pad_token, np.zeros(300),replace=False)"
   ]
  },
  {
   "cell_type": "code",
   "execution_count": null,
   "metadata": {},
   "outputs": [],
   "source": [
    "def preprocess_word2vec(row, unk_token=tokenizerBert._unk_token, pad_token=tokenizerBert._pad_token):\n",
    "    #print(type(row[1].tolist()))\n",
    "    #print(row[1].tolist())\n",
    "    sentence = row[1][1:].tolist()\n",
    "    label = row[1][0]\n",
    "    #print(sentence)\n",
    "    filled_sentence = [word if embedding_model.vocab.get(word) is not None else unk_token for word in sentence]\n",
    "    #print(filled_sentence)\n",
    "    sentence_as_int = [embedding_model.vocab.get(word).index for word in filled_sentence]\n",
    "    return sentence_as_int, label # X, Y"
   ]
  },
  {
   "cell_type": "code",
   "execution_count": null,
   "metadata": {},
   "outputs": [],
   "source": [
    "embedding_model.vocab.get(\"[UNK]\")"
   ]
  },
  {
   "cell_type": "markdown",
   "metadata": {},
   "source": [
    "unk_token = tokenizerBert._unk_token\n",
    "for entry in data_p.head(100_000).iterrows():\n",
    "    sentence = entry[1][1:]\n",
    "    filled_sentence = [word if embedding_model.vocab.get(word) is not None else unk_token for word in sentence]"
   ]
  },
  {
   "cell_type": "code",
   "execution_count": null,
   "metadata": {},
   "outputs": [],
   "source": [
    "%%time\n",
    "pool = mp.Pool(mp.cpu_count())\n",
    "print(mp.cpu_count())\n",
    "\n",
    "# Parallelizing using Pool.map()\n",
    "results = pool.map(preprocess_word2vec, data_p.iterrows())\n",
    "\n",
    "pool.close()"
   ]
  },
  {
   "cell_type": "code",
   "execution_count": null,
   "metadata": {},
   "outputs": [],
   "source": [
    "data_pw2v = pd.DataFrame(results)"
   ]
  },
  {
   "cell_type": "code",
   "execution_count": null,
   "metadata": {},
   "outputs": [],
   "source": []
  },
  {
   "cell_type": "code",
   "execution_count": null,
   "metadata": {},
   "outputs": [],
   "source": []
  },
  {
   "cell_type": "code",
   "execution_count": null,
   "metadata": {},
   "outputs": [],
   "source": []
  }
 ],
 "metadata": {
  "kernelspec": {
   "display_name": "Python 3",
   "language": "python",
   "name": "python3"
  },
  "language_info": {
   "codemirror_mode": {
    "name": "ipython",
    "version": 3
   },
   "file_extension": ".py",
   "mimetype": "text/x-python",
   "name": "python",
   "nbconvert_exporter": "python",
   "pygments_lexer": "ipython3",
   "version": "3.7.3"
  }
 },
 "nbformat": 4,
 "nbformat_minor": 4
}
