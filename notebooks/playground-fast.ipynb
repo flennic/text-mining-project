{
 "cells": [
  {
   "cell_type": "markdown",
   "metadata": {},
   "source": [
    "# Data Processing"
   ]
  },
  {
   "cell_type": "code",
   "execution_count": 1,
   "metadata": {},
   "outputs": [],
   "source": [
    "path_train = '../src/data/processed/train_p-w2v_e-1m_p-200_s0.85.csv'\n",
    "path_val = '../src/data/processed/val_p-w2v_e-1m_p-200_s0.1.csv'\n",
    "path_test = '../src/data/processed/test_p-w2v_e-1m_p-200_s0.05.csv'"
   ]
  },
  {
   "cell_type": "markdown",
   "metadata": {},
   "source": [
    "Reading in word vectors. Reduced to 500k due to RAM limits."
   ]
  },
  {
   "cell_type": "markdown",
   "metadata": {},
   "source": [
    "**Todo:** Filter for those vocabularies that are actually in the whole data set."
   ]
  },
  {
   "cell_type": "markdown",
   "metadata": {},
   "source": [
    "Create a Dataset for the Amazon reviews."
   ]
  },
  {
   "cell_type": "code",
   "execution_count": 2,
   "metadata": {},
   "outputs": [],
   "source": [
    "from torch.utils.data import IterableDataset\n",
    "import torch\n",
    "\n",
    "class AmazonReviewDatasetWord2Vec(IterableDataset):\n",
    "    def __init__(self, path):\n",
    "        \n",
    "        self._length = 0\n",
    "        self._path = path\n",
    "\n",
    "    def __iter__(self):\n",
    "        return map(self.__process__, open(self._path))\n",
    "    \n",
    "    @property\n",
    "    def length(self):\n",
    "        if self._length == 0:\n",
    "            with open(self._path, 'r') as file:\n",
    "                for line in file:\n",
    "                    self._length += 1\n",
    "        return self._length\n",
    "    \n",
    "    @staticmethod\n",
    "    def __process__(line):\n",
    "        return [int(entry) for entry in line.split(\",\")]"
   ]
  },
  {
   "cell_type": "code",
   "execution_count": 3,
   "metadata": {},
   "outputs": [],
   "source": [
    "train_data = AmazonReviewDatasetWord2Vec(path_train)\n",
    "val_data = AmazonReviewDatasetWord2Vec(path_val)"
   ]
  },
  {
   "cell_type": "code",
   "execution_count": 4,
   "metadata": {},
   "outputs": [],
   "source": [
    "#%%time\n",
    "#train_data = AmazonReviewDataset(path_train)"
   ]
  },
  {
   "cell_type": "code",
   "execution_count": 5,
   "metadata": {},
   "outputs": [],
   "source": [
    "#%%time\n",
    "#val_data = AmazonReviewDataset(path_val)"
   ]
  },
  {
   "cell_type": "markdown",
   "metadata": {},
   "source": [
    "Create a DataLoader as well, using a custom collate function for creating the batches."
   ]
  },
  {
   "cell_type": "code",
   "execution_count": 6,
   "metadata": {},
   "outputs": [],
   "source": [
    "def batch2tensor(batch):\n",
    "    X, Y = [None]*len(batch), [None]*len(batch)\n",
    "    #print(batch)\n",
    "    #print(len(batch))\n",
    "    for i, row in enumerate(batch):\n",
    "        Y[i] = row[0]\n",
    "        X[i] = row[1:]\n",
    "        \n",
    "    return torch.LongTensor(X), torch.LongTensor(Y)"
   ]
  },
  {
   "cell_type": "code",
   "execution_count": 7,
   "metadata": {},
   "outputs": [
    {
     "name": "stdout",
     "output_type": "stream",
     "text": [
      "CPU times: user 55 µs, sys: 6 µs, total: 61 µs\n",
      "Wall time: 64.4 µs\n"
     ]
    }
   ],
   "source": [
    "%%time\n",
    "from torch.utils.data import DataLoader\n",
    "dataloader_train = DataLoader(train_data, batch_size=8192, num_workers=1, collate_fn=batch2tensor)\n",
    "dataloader_val = DataLoader(val_data, batch_size=8192, num_workers=1, collate_fn=batch2tensor)"
   ]
  },
  {
   "cell_type": "markdown",
   "metadata": {},
   "source": [
    "Load one example."
   ]
  },
  {
   "cell_type": "code",
   "execution_count": 8,
   "metadata": {},
   "outputs": [
    {
     "name": "stdout",
     "output_type": "stream",
     "text": [
      "CPU times: user 4.9 ms, sys: 7.43 ms, total: 12.3 ms\n",
      "Wall time: 10.5 ms\n"
     ]
    }
   ],
   "source": [
    "%%time\n",
    "dataiter_val = iter(dataloader_val)"
   ]
  },
  {
   "cell_type": "code",
   "execution_count": 9,
   "metadata": {},
   "outputs": [
    {
     "name": "stdout",
     "output_type": "stream",
     "text": [
      "CPU times: user 8 ms, sys: 0 ns, total: 8 ms\n",
      "Wall time: 670 ms\n"
     ]
    }
   ],
   "source": [
    "%%time\n",
    "X_dash, Y_dash = dataiter_val.next()"
   ]
  },
  {
   "cell_type": "code",
   "execution_count": 10,
   "metadata": {},
   "outputs": [
    {
     "name": "stdout",
     "output_type": "stream",
     "text": [
      "CPU times: user 9.08 ms, sys: 8.14 ms, total: 17.2 ms\n",
      "Wall time: 31.6 ms\n"
     ]
    }
   ],
   "source": [
    "%%time\n",
    "dataiter_train = iter(dataloader_train)"
   ]
  },
  {
   "cell_type": "code",
   "execution_count": 11,
   "metadata": {},
   "outputs": [
    {
     "name": "stdout",
     "output_type": "stream",
     "text": [
      "CPU times: user 6.23 ms, sys: 284 µs, total: 6.52 ms\n",
      "Wall time: 918 ms\n"
     ]
    }
   ],
   "source": [
    "%%time\n",
    "X_dash, Y_dash = dataiter_train.next()"
   ]
  },
  {
   "cell_type": "code",
   "execution_count": 12,
   "metadata": {},
   "outputs": [],
   "source": [
    "X_dash = X_dash.cuda()\n",
    "Y_dash = Y_dash.cuda()"
   ]
  },
  {
   "cell_type": "code",
   "execution_count": 13,
   "metadata": {},
   "outputs": [
    {
     "data": {
      "text/plain": [
       "torch.Size([8192, 200])"
      ]
     },
     "execution_count": 13,
     "metadata": {},
     "output_type": "execute_result"
    }
   ],
   "source": [
    "X_dash.shape"
   ]
  },
  {
   "cell_type": "code",
   "execution_count": 14,
   "metadata": {},
   "outputs": [
    {
     "data": {
      "text/plain": [
       "torch.Size([8192])"
      ]
     },
     "execution_count": 14,
     "metadata": {},
     "output_type": "execute_result"
    }
   ],
   "source": [
    "Y_dash.shape"
   ]
  },
  {
   "cell_type": "markdown",
   "metadata": {},
   "source": [
    "Definition of the network."
   ]
  },
  {
   "cell_type": "code",
   "execution_count": 15,
   "metadata": {},
   "outputs": [],
   "source": [
    "import torch.nn as nn"
   ]
  },
  {
   "cell_type": "code",
   "execution_count": 16,
   "metadata": {},
   "outputs": [],
   "source": [
    "class FFN(nn.Module):\n",
    "    def __init__(self, word_embeddings, embedding_size=300, padding=200, category_amount=5, dropout=0.25):\n",
    "        super().__init__()\n",
    "        \n",
    "        # Predefined word embeddings\n",
    "        self.embedding = nn.Embedding.from_pretrained(word_embeddings)\n",
    "        \n",
    "        # Dropout\n",
    "        self.dropout = nn.Dropout(p=dropout)\n",
    "        \n",
    "        self.l1 = nn.Linear(embedding_size * padding, 256)\n",
    "        self.l2 = nn.Linear(256, category_amount)\n",
    "        \n",
    "        # Define sigmoid activation and softmax output \n",
    "        self.sigmoid = nn.Sigmoid()\n",
    "        self.softmax = nn.LogSoftmax(dim=1)\n",
    "        \n",
    "    def forward(self, x):\n",
    "        # Pass the input tensor through each of our operations\n",
    "        x = self.embedding(x)\n",
    "        x = x.view(x.shape[0], -1)\n",
    "        x = self.l1(x)\n",
    "        x = self.sigmoid(x)\n",
    "        x = self.dropout(x)\n",
    "        x = self.l2(x)\n",
    "        x = self.softmax(x)\n",
    "        \n",
    "        return x"
   ]
  },
  {
   "cell_type": "code",
   "execution_count": 17,
   "metadata": {},
   "outputs": [
    {
     "name": "stdout",
     "output_type": "stream",
     "text": [
      "CPU times: user 34.6 s, sys: 4.88 s, total: 39.5 s\n",
      "Wall time: 38.7 s\n"
     ]
    }
   ],
   "source": [
    "%%time\n",
    "import gensim\n",
    "import numpy as np\n",
    "from transformers import BertTokenizer\n",
    "tokenizerBert = BertTokenizer.from_pretrained('bert-base-uncased')\n",
    "embedding_model = gensim.models.KeyedVectors.load_word2vec_format('../src/data/embeddings/GoogleNews-vectors-negative300.bin', binary=True, limit=1_000_000)\n",
    "embedding_model.add(tokenizerBert._unk_token, np.mean(embedding_model.vectors, axis=0), replace=False)\n",
    "embedding_model.add(tokenizerBert._pad_token, np.zeros(300),replace=False)"
   ]
  },
  {
   "cell_type": "code",
   "execution_count": 18,
   "metadata": {},
   "outputs": [],
   "source": [
    "model = FFN(torch.FloatTensor(embedding_model.vectors)).cuda()"
   ]
  },
  {
   "cell_type": "code",
   "execution_count": 19,
   "metadata": {},
   "outputs": [],
   "source": [
    "del tokenizerBert, embedding_model"
   ]
  },
  {
   "cell_type": "code",
   "execution_count": 20,
   "metadata": {},
   "outputs": [
    {
     "data": {
      "text/plain": [
       "FFN(\n",
       "  (embedding): Embedding(1000002, 300)\n",
       "  (dropout): Dropout(p=0.25, inplace=False)\n",
       "  (l1): Linear(in_features=60000, out_features=256, bias=True)\n",
       "  (l2): Linear(in_features=256, out_features=5, bias=True)\n",
       "  (sigmoid): Sigmoid()\n",
       "  (softmax): LogSoftmax()\n",
       ")"
      ]
     },
     "execution_count": 20,
     "metadata": {},
     "output_type": "execute_result"
    }
   ],
   "source": [
    "model"
   ]
  },
  {
   "cell_type": "code",
   "execution_count": 21,
   "metadata": {},
   "outputs": [
    {
     "data": {
      "text/plain": [
       "torch.Size([8192, 5])"
      ]
     },
     "execution_count": 21,
     "metadata": {},
     "output_type": "execute_result"
    }
   ],
   "source": [
    "model(X_dash).shape"
   ]
  },
  {
   "cell_type": "code",
   "execution_count": 22,
   "metadata": {},
   "outputs": [
    {
     "data": {
      "text/plain": [
       "torch.Size([5])"
      ]
     },
     "execution_count": 22,
     "metadata": {},
     "output_type": "execute_result"
    }
   ],
   "source": [
    "model(X_dash)[0].shape"
   ]
  },
  {
   "cell_type": "code",
   "execution_count": 23,
   "metadata": {},
   "outputs": [
    {
     "data": {
      "text/plain": [
       "torch.Size([8192, 5])"
      ]
     },
     "execution_count": 23,
     "metadata": {},
     "output_type": "execute_result"
    }
   ],
   "source": [
    "model(X_dash).shape"
   ]
  },
  {
   "cell_type": "code",
   "execution_count": 24,
   "metadata": {},
   "outputs": [
    {
     "data": {
      "text/plain": [
       "torch.Size([8192])"
      ]
     },
     "execution_count": 24,
     "metadata": {},
     "output_type": "execute_result"
    }
   ],
   "source": [
    "Y_dash.shape"
   ]
  },
  {
   "cell_type": "code",
   "execution_count": 25,
   "metadata": {},
   "outputs": [
    {
     "data": {
      "text/plain": [
       "torch.Size([8192, 200])"
      ]
     },
     "execution_count": 25,
     "metadata": {},
     "output_type": "execute_result"
    }
   ],
   "source": [
    "X_dash.shape"
   ]
  },
  {
   "cell_type": "markdown",
   "metadata": {},
   "source": [
    "Look at the untrained model."
   ]
  },
  {
   "cell_type": "code",
   "execution_count": 26,
   "metadata": {},
   "outputs": [],
   "source": [
    "from matplotlib import pyplot as plt"
   ]
  },
  {
   "cell_type": "code",
   "execution_count": 27,
   "metadata": {},
   "outputs": [
    {
     "data": {
      "image/png": "[encoded data removed]",
      "text/plain": [
       "<Figure size 432x288 with 1 Axes>"
      ]
     },
     "metadata": {
      "needs_background": "light"
     },
     "output_type": "display_data"
    }
   ],
   "source": [
    "plt.bar(range(0,5), np.exp(model(X_dash).detach().cpu().numpy()[0]), alpha=0.5);"
   ]
  },
  {
   "cell_type": "markdown",
   "metadata": {},
   "source": [
    "## Training the Model"
   ]
  },
  {
   "cell_type": "code",
   "execution_count": 28,
   "metadata": {},
   "outputs": [],
   "source": [
    "from torch import optim"
   ]
  },
  {
   "cell_type": "code",
   "execution_count": 29,
   "metadata": {},
   "outputs": [],
   "source": [
    "#optimizer = optim.SGD(model.parameters(), lr=0.04, nesterov=True, momentum=0.1)\n",
    "optimizer = optim.Adam(model.parameters(), lr=0.05)"
   ]
  },
  {
   "cell_type": "code",
   "execution_count": 30,
   "metadata": {},
   "outputs": [],
   "source": [
    "criterion = nn.NLLLoss()"
   ]
  },
  {
   "cell_type": "code",
   "execution_count": 31,
   "metadata": {},
   "outputs": [],
   "source": [
    "batch_size = 8192"
   ]
  },
  {
   "cell_type": "code",
   "execution_count": 32,
   "metadata": {},
   "outputs": [
    {
     "name": "stdout",
     "output_type": "stream",
     "text": [
      "Percentage: 0.0\n",
      "Percentage: 0.05280902497985496\n",
      "Percentage: 0.10561804995970991\n",
      "Percentage: 0.15842707493956487\n",
      "Percentage: 0.21123609991941983\n",
      "Percentage: 0.2640451248992748\n",
      "Percentage: 0.31685414987912974\n",
      "Percentage: 0.3696631748589847\n",
      "Percentage: 0.42247219983883966\n",
      "Percentage: 0.4752812248186946\n",
      "Percentage: 0.5280902497985496\n",
      "Percentage: 0.5808992747784045\n",
      "Percentage: 0.6337082997582595\n",
      "Percentage: 0.6865173247381144\n",
      "Percentage: 0.7393263497179694\n",
      "Percentage: 0.7921353746978244\n",
      "Percentage: 0.8449443996776793\n",
      "Percentage: 0.8977534246575343\n",
      "Percentage: 0.9505624496373892\n",
      "Evaluating\n",
      "Epoch: 1/8\n",
      " Training Loss: 0.000198\n",
      " Training Accuracy: 0.260\n",
      " Validation Loss: 0.000187\n",
      " Validation Accuracy: 0.308\n",
      "\n",
      "Percentage: 0.0\n",
      "Percentage: 0.05280902497985496\n",
      "Percentage: 0.10561804995970991\n",
      "Percentage: 0.15842707493956487\n",
      "Percentage: 0.21123609991941983\n",
      "Percentage: 0.2640451248992748\n",
      "Percentage: 0.31685414987912974\n",
      "Percentage: 0.3696631748589847\n",
      "Percentage: 0.42247219983883966\n",
      "Percentage: 0.4752812248186946\n",
      "Percentage: 0.5280902497985496\n",
      "Percentage: 0.5808992747784045\n",
      "Percentage: 0.6337082997582595\n",
      "Percentage: 0.6865173247381144\n",
      "Percentage: 0.7393263497179694\n",
      "Percentage: 0.7921353746978244\n",
      "Percentage: 0.8449443996776793\n",
      "Percentage: 0.8977534246575343\n",
      "Percentage: 0.9505624496373892\n",
      "Evaluating\n",
      "Epoch: 2/8\n",
      " Training Loss: 0.000189\n",
      " Training Accuracy: 0.276\n",
      " Validation Loss: 0.000187\n",
      " Validation Accuracy: 0.303\n",
      "\n",
      "Percentage: 0.0\n",
      "Percentage: 0.05280902497985496\n",
      "Percentage: 0.10561804995970991\n",
      "Percentage: 0.15842707493956487\n",
      "Percentage: 0.21123609991941983\n",
      "Percentage: 0.2640451248992748\n",
      "Percentage: 0.31685414987912974\n",
      "Percentage: 0.3696631748589847\n",
      "Percentage: 0.42247219983883966\n",
      "Percentage: 0.4752812248186946\n",
      "Percentage: 0.5280902497985496\n",
      "Percentage: 0.5808992747784045\n",
      "Percentage: 0.6337082997582595\n",
      "Percentage: 0.6865173247381144\n",
      "Percentage: 0.7393263497179694\n",
      "Percentage: 0.7921353746978244\n",
      "Percentage: 0.8449443996776793\n",
      "Percentage: 0.8977534246575343\n",
      "Percentage: 0.9505624496373892\n",
      "Evaluating\n",
      "Epoch: 3/8\n",
      " Training Loss: 0.000189\n",
      " Training Accuracy: 0.276\n",
      " Validation Loss: 0.000187\n",
      " Validation Accuracy: 0.300\n",
      "\n",
      "Percentage: 0.0\n",
      "Percentage: 0.05280902497985496\n",
      "Percentage: 0.10561804995970991\n",
      "Percentage: 0.15842707493956487\n",
      "Percentage: 0.21123609991941983\n",
      "Percentage: 0.2640451248992748\n",
      "Percentage: 0.31685414987912974\n",
      "Percentage: 0.3696631748589847\n",
      "Percentage: 0.42247219983883966\n",
      "Percentage: 0.4752812248186946\n",
      "Percentage: 0.5280902497985496\n",
      "Percentage: 0.5808992747784045\n",
      "Percentage: 0.6337082997582595\n",
      "Percentage: 0.6865173247381144\n",
      "Percentage: 0.7393263497179694\n",
      "Percentage: 0.7921353746978244\n",
      "Percentage: 0.8449443996776793\n",
      "Percentage: 0.8977534246575343\n",
      "Percentage: 0.9505624496373892\n",
      "Evaluating\n",
      "Epoch: 4/8\n",
      " Training Loss: 0.000189\n",
      " Training Accuracy: 0.276\n",
      " Validation Loss: 0.000187\n",
      " Validation Accuracy: 0.286\n",
      "\n",
      "Percentage: 0.0\n",
      "Percentage: 0.05280902497985496\n",
      "Percentage: 0.10561804995970991\n",
      "Percentage: 0.15842707493956487\n",
      "Percentage: 0.21123609991941983\n",
      "Percentage: 0.2640451248992748\n",
      "Percentage: 0.31685414987912974\n",
      "Percentage: 0.3696631748589847\n",
      "Percentage: 0.42247219983883966\n",
      "Percentage: 0.4752812248186946\n",
      "Percentage: 0.5280902497985496\n",
      "Percentage: 0.5808992747784045\n",
      "Percentage: 0.6337082997582595\n",
      "Percentage: 0.6865173247381144\n",
      "Percentage: 0.7393263497179694\n",
      "Percentage: 0.7921353746978244\n",
      "Percentage: 0.8449443996776793\n",
      "Percentage: 0.8977534246575343\n",
      "Percentage: 0.9505624496373892\n",
      "Evaluating\n",
      "Epoch: 5/8\n",
      " Training Loss: 0.000184\n",
      " Training Accuracy: 0.314\n",
      " Validation Loss: 0.000181\n",
      " Validation Accuracy: 0.315\n",
      "\n",
      "Percentage: 0.0\n",
      "Percentage: 0.05280902497985496\n",
      "Percentage: 0.10561804995970991\n",
      "Percentage: 0.15842707493956487\n",
      "Percentage: 0.21123609991941983\n",
      "Percentage: 0.2640451248992748\n",
      "Percentage: 0.31685414987912974\n",
      "Percentage: 0.3696631748589847\n",
      "Percentage: 0.42247219983883966\n",
      "Percentage: 0.4752812248186946\n",
      "Percentage: 0.5280902497985496\n",
      "Percentage: 0.5808992747784045\n",
      "Percentage: 0.6337082997582595\n",
      "Percentage: 0.6865173247381144\n",
      "Percentage: 0.7393263497179694\n",
      "Percentage: 0.7921353746978244\n",
      "Percentage: 0.8449443996776793\n",
      "Percentage: 0.8977534246575343\n",
      "Percentage: 0.9505624496373892\n",
      "Evaluating\n",
      "Epoch: 6/8\n",
      " Training Loss: 0.000181\n",
      " Training Accuracy: 0.335\n",
      " Validation Loss: 0.000181\n",
      " Validation Accuracy: 0.316\n",
      "\n",
      "Percentage: 0.0\n",
      "Percentage: 0.05280902497985496\n",
      "Percentage: 0.10561804995970991\n",
      "Percentage: 0.15842707493956487\n",
      "Percentage: 0.21123609991941983\n",
      "Percentage: 0.2640451248992748\n",
      "Percentage: 0.31685414987912974\n",
      "Percentage: 0.3696631748589847\n",
      "Percentage: 0.42247219983883966\n",
      "Percentage: 0.4752812248186946\n",
      "Percentage: 0.5280902497985496\n",
      "Percentage: 0.5808992747784045\n",
      "Percentage: 0.6337082997582595\n",
      "Percentage: 0.6865173247381144\n",
      "Percentage: 0.7393263497179694\n",
      "Percentage: 0.7921353746978244\n",
      "Percentage: 0.8449443996776793\n",
      "Percentage: 0.8977534246575343\n",
      "Percentage: 0.9505624496373892\n",
      "Evaluating\n",
      "Epoch: 7/8\n",
      " Training Loss: 0.000180\n",
      " Training Accuracy: 0.341\n",
      " Validation Loss: 0.000180\n",
      " Validation Accuracy: 0.317\n",
      "\n",
      "Percentage: 0.0\n",
      "Percentage: 0.05280902497985496\n",
      "Percentage: 0.10561804995970991\n",
      "Percentage: 0.15842707493956487\n",
      "Percentage: 0.21123609991941983\n",
      "Percentage: 0.2640451248992748\n",
      "Percentage: 0.31685414987912974\n",
      "Percentage: 0.3696631748589847\n",
      "Percentage: 0.42247219983883966\n",
      "Percentage: 0.4752812248186946\n",
      "Percentage: 0.5280902497985496\n",
      "Percentage: 0.5808992747784045\n",
      "Percentage: 0.6337082997582595\n",
      "Percentage: 0.6865173247381144\n",
      "Percentage: 0.7393263497179694\n",
      "Percentage: 0.7921353746978244\n",
      "Percentage: 0.8449443996776793\n",
      "Percentage: 0.8977534246575343\n",
      "Percentage: 0.9505624496373892\n",
      "Evaluating\n",
      "Epoch: 8/8\n",
      " Training Loss: 0.000179\n",
      " Training Accuracy: 0.347\n",
      " Validation Loss: 0.000180\n",
      " Validation Accuracy: 0.322\n",
      "\n",
      "CPU times: user 7min 1s, sys: 13.1 s, total: 7min 14s\n",
      "Wall time: 30min 35s\n"
     ]
    }
   ],
   "source": [
    "%%time\n",
    "\n",
    "epochs = 8\n",
    "\n",
    "train_losses, train_accuracies, validation_losses, validation_accuracies = [], [], [], []\n",
    "\n",
    "for e in range(epochs):\n",
    "    \n",
    "    training_loss = 0\n",
    "    training_accuracy = 0\n",
    "    \n",
    "    i = 0\n",
    "    \n",
    "    for X, Y in dataloader_train:\n",
    "        X = X.cuda()\n",
    "        Y = Y.cuda()\n",
    "        \n",
    "        if i % 20 == 0:\n",
    "            print(\"Percentage: {}\".format(i * batch_size / 3102500))\n",
    "    \n",
    "        # Reset Gradients\n",
    "        optimizer.zero_grad()\n",
    "        \n",
    "        # Forward, Loss, Backwards, Update\n",
    "        output = model(X)\n",
    "        loss = criterion(output, Y)\n",
    "        loss.backward()\n",
    "        optimizer.step()\n",
    "        \n",
    "        # Calculate Metrics\n",
    "        training_loss += loss.item()\n",
    "        training_accuracy += torch.sum(torch.exp(output).topk(1)[1].view(-1) == Y).item()\n",
    "        \n",
    "        i += 1\n",
    "        \n",
    "    else:\n",
    "        \n",
    "        print(\"Evaluating\")\n",
    "        \n",
    "        validation_loss = 0\n",
    "        validation_accuracy = 0\n",
    "        \n",
    "        model.eval()\n",
    "        \n",
    "        with torch.no_grad():\n",
    "            \n",
    "            for X, Y in dataloader_val:\n",
    "                X = X.cuda()\n",
    "                Y = Y.cuda()\n",
    "                \n",
    "                output_validation = model(X)\n",
    "                loss_val = criterion(output_validation, Y)\n",
    "                validation_loss += loss_val.item()\n",
    "                validation_accuracy += torch.sum(torch.exp(output_validation).topk(1, dim=1)[1].view(-1) == Y).item()\n",
    "        \n",
    "        training_loss /= train_data.length\n",
    "        training_accuracy /= train_data.length\n",
    "        validation_loss /= val_data.length\n",
    "        validation_accuracy /= val_data.length\n",
    "        \n",
    "        # Saving metrics\n",
    "        train_losses.append(training_loss)\n",
    "        train_accuracies.append(training_accuracy)\n",
    "        validation_losses.append(validation_loss)\n",
    "        validation_accuracies.append(validation_accuracy)\n",
    "        \n",
    "        print(\"Epoch: {}/{}\\n\".format(e+1, epochs),\n",
    "              \"Training Loss: {:.6f}\\n\".format(training_loss),\n",
    "              \"Training Accuracy: {:.3f}\\n\".format(training_accuracy),\n",
    "              \"Validation Loss: {:.6f}\\n\".format(validation_loss),\n",
    "              \"Validation Accuracy: {:.3f}\\n\".format(validation_accuracy))\n",
    "        \n",
    "        model.train()"
   ]
  },
  {
   "cell_type": "code",
   "execution_count": 33,
   "metadata": {},
   "outputs": [
    {
     "data": {
      "image/png": "[encoded data removed]",
      "text/plain": [
       "<Figure size 432x288 with 1 Axes>"
      ]
     },
     "metadata": {
      "needs_background": "light"
     },
     "output_type": "display_data"
    }
   ],
   "source": [
    "plt.bar(range(0,5), np.exp(model(X_dash).detach().cpu().numpy()[0]), alpha=0.5);"
   ]
  },
  {
   "cell_type": "code",
   "execution_count": 34,
   "metadata": {},
   "outputs": [
    {
     "data": {
      "text/plain": [
       "tensor(1, device='cuda:0')"
      ]
     },
     "execution_count": 34,
     "metadata": {},
     "output_type": "execute_result"
    }
   ],
   "source": [
    "Y_dash[0]"
   ]
  },
  {
   "cell_type": "code",
   "execution_count": 35,
   "metadata": {},
   "outputs": [
    {
     "data": {
      "image/png": "[encoded data removed]",
      "text/plain": [
       "<Figure size 432x288 with 1 Axes>"
      ]
     },
     "metadata": {
      "needs_background": "light"
     },
     "output_type": "display_data"
    }
   ],
   "source": [
    "plt.plot(train_losses, label='Training loss')\n",
    "plt.plot(validation_losses, label='Validation loss')\n",
    "plt.legend(frameon=False);"
   ]
  },
  {
   "cell_type": "code",
   "execution_count": 36,
   "metadata": {},
   "outputs": [
    {
     "data": {
      "image/png": "[encoded data removed]",
      "text/plain": [
       "<Figure size 432x288 with 1 Axes>"
      ]
     },
     "metadata": {
      "needs_background": "light"
     },
     "output_type": "display_data"
    }
   ],
   "source": [
    "plt.plot(train_accuracies, label='Training Accuracy')\n",
    "plt.plot(validation_accuracies, label='Validation Accuracy')\n",
    "plt.legend(frameon=False);"
   ]
  },
  {
   "cell_type": "code",
   "execution_count": null,
   "metadata": {},
   "outputs": [],
   "source": []
  },
  {
   "cell_type": "markdown",
   "metadata": {},
   "source": [
    "# LSTM"
   ]
  },
  {
   "cell_type": "code",
   "execution_count": null,
   "metadata": {},
   "outputs": [],
   "source": [
    "import torch.nn as nn"
   ]
  },
  {
   "cell_type": "code",
   "execution_count": null,
   "metadata": {},
   "outputs": [],
   "source": [
    "class LSTM(nn.Module):\n",
    "    def __init__(self, word_embeddings, embedding_size=300, padding=200,\n",
    "                 category_amount=5, lstm_layers = 2, lstm_hidden = 128,\n",
    "                 dropout=0.25, lstm_dropout=0.25):\n",
    "        \n",
    "        super().__init__()\n",
    "\n",
    "        self.lstm_layers = lstm_layers\n",
    "        self.lstm_hidden = lstm_hidden\n",
    "        \n",
    "        # Predefined word embeddings\n",
    "        self.embedding = nn.Embedding.from_pretrained(word_embeddings)\n",
    "        \n",
    "        # LSTM\n",
    "        self.lstm = nn.LSTM(embedding_size, lstm_hidden, lstm_layers,\n",
    "                           batch_first=True, dropout=lstm_dropout,\n",
    "                           bidirectional=False)\n",
    "        \n",
    "        # Dropout\n",
    "        self.dropout = nn.Dropout(p=dropout)\n",
    "        \n",
    "        # FFN\n",
    "        self.l1 = nn.Linear(lstm_hidden * padding, category_amount)\n",
    "        \n",
    "        # Define sigmoid activation and softmax output \n",
    "        self.sigmoid = nn.Sigmoid()\n",
    "        self.softmax = nn.LogSoftmax(dim=1)\n",
    "        \n",
    "    def forward(self, x):\n",
    "\n",
    "        hidden = self.init_hidden(x.shape[0])\n",
    "\n",
    "        # Pass the input tensor through each of our operations\n",
    "        x = self.embedding(x)\n",
    "        x, hidden = self.lstm(x, hidden)\n",
    "        x = self.dropout(x)\n",
    "        x = x.reshape(x.shape[0], -1)\n",
    "        x = self.l1(x)\n",
    "        x = self.sigmoid(x)\n",
    "        x = self.softmax(x)\n",
    "        \n",
    "        return x#, hidden\n",
    "    \n",
    "    def init_hidden(self, batch_size):\n",
    "        ''' Initializes hidden state '''\n",
    "        # Create two new tensors with sizes lstm_layers x batch_size x lstm_hidden,\n",
    "        # initialized to zero, for hidden state and cell state of LSTM\n",
    "        weight = next(self.parameters()).data\n",
    "        \n",
    "        hidden = (weight.new(self.lstm_layers, batch_size, self.lstm_hidden).zero_().cuda(),\n",
    "                  weight.new(self.lstm_layers, batch_size, self.lstm_hidden).zero_().cuda())\n",
    "        \n",
    "        return hidden"
   ]
  },
  {
   "cell_type": "code",
   "execution_count": null,
   "metadata": {},
   "outputs": [],
   "source": [
    "import torch"
   ]
  },
  {
   "cell_type": "code",
   "execution_count": null,
   "metadata": {},
   "outputs": [],
   "source": [
    "model = LSTM(torch.FloatTensor(embedding_model.vectors)).cuda()"
   ]
  },
  {
   "cell_type": "code",
   "execution_count": null,
   "metadata": {},
   "outputs": [],
   "source": [
    "model"
   ]
  },
  {
   "cell_type": "code",
   "execution_count": null,
   "metadata": {},
   "outputs": [],
   "source": [
    "#hidden, out = model(X_dash, hidden)\n",
    "out = model(X_dash)"
   ]
  },
  {
   "cell_type": "code",
   "execution_count": null,
   "metadata": {},
   "outputs": [],
   "source": [
    "out.shape"
   ]
  },
  {
   "cell_type": "code",
   "execution_count": null,
   "metadata": {},
   "outputs": [],
   "source": [
    "from torch import optim\n",
    "optimizer = optim.SGD(model.parameters(), lr=0.05, nesterov=True, momentum=0.1)\n",
    "#optimizer = optim.SGD(model.parameters(), lr=0.05)"
   ]
  },
  {
   "cell_type": "code",
   "execution_count": null,
   "metadata": {},
   "outputs": [],
   "source": [
    "criterion = nn.NLLLoss()"
   ]
  },
  {
   "cell_type": "code",
   "execution_count": null,
   "metadata": {},
   "outputs": [],
   "source": [
    "%%time\n",
    "\n",
    "epochs = 20\n",
    "clip = 5\n",
    "\n",
    "train_losses, train_accuracies, validation_losses, validation_accuracies = [], [], [], []\n",
    "\n",
    "for e in range(epochs):\n",
    "\n",
    "    # Initialize hidden states\n",
    "    #hidden = model.init_hidden(1024)\n",
    "    \n",
    "    training_loss = 0\n",
    "    training_accuracy = 0\n",
    "    \n",
    "    for X, Y in dataloader_train:\n",
    "        X = X.cuda()\n",
    "        Y = Y.cuda()\n",
    "\n",
    "        #print(\"Starting batch. {}\".format(X.shape))\n",
    "\n",
    "        # Creating new variables for the hidden state, otherwise\n",
    "        # we'd backprop through the entire training history\n",
    "        #hidden = tuple([each.data for each in hidden])\n",
    "    \n",
    "        # Reset Gradients\n",
    "        optimizer.zero_grad()\n",
    "        \n",
    "        # Forward, Loss, Backwards, Update\n",
    "        #output, hidden = model(X, hidden)\n",
    "        output = model(X)\n",
    "        loss = criterion(output, Y)\n",
    "        loss.backward()\n",
    "\n",
    "        # Gradient clipping and update\n",
    "        nn.utils.clip_grad_norm_(model.parameters(), clip)\n",
    "        optimizer.step()\n",
    "        \n",
    "        # Calculate Metrics\n",
    "        training_loss += loss.item()\n",
    "        training_accuracy += torch.sum(torch.exp(output).topk(1)[1].view(-1) == Y).item()\n",
    "\n",
    "        #print(\"Batch done. {}\".format(X.shape))\n",
    "        \n",
    "    else:\n",
    "        #print(\"Validating.\")\n",
    "        # Initialize hidden staes\n",
    "        model.init_hidden(1024)\n",
    "\n",
    "        validation_loss = 0\n",
    "        validation_accuracy = 0\n",
    "        \n",
    "        model.eval()\n",
    "        \n",
    "        with torch.no_grad():\n",
    "            for X, Y in dataloader_val:\n",
    "                X = X.cuda()\n",
    "                Y = Y.cuda()\n",
    "\n",
    "                # Creating new variables for the hidden state, otherwise\n",
    "                # we'd backprop through the entire training history\n",
    "                #val_hidden = tuple([each.data for each in val_hidden])\n",
    "                \n",
    "                #output_validation, val_hidden = model(X, val_hidden)\n",
    "                output_validation = model(X)\n",
    "                loss_val = criterion(output_validation, Y)\n",
    "                validation_loss += loss_val.item()\n",
    "                validation_accuracy += torch.sum(torch.exp(output_validation).topk(1, dim=1)[1].view(-1) == Y).item()\n",
    "                \n",
    "        \n",
    "        training_loss /= len(train_data)\n",
    "        training_accuracy /= len(train_data)\n",
    "        validation_loss /= len(val_data)\n",
    "        validation_accuracy /= len(val_data)\n",
    "        \n",
    "        # Saving metrics\n",
    "        train_losses.append(training_loss)\n",
    "        train_accuracies.append(training_accuracy)\n",
    "        validation_losses.append(validation_loss)\n",
    "        validation_accuracies.append(validation_accuracy)\n",
    "        \n",
    "        print(\"Epoch: {}/{}\\n\".format(e+1, epochs),\n",
    "              \"Training Loss: {:.6f}\\n\".format(training_loss),\n",
    "              \"Training Accuracy: {:.3f}\\n\".format(training_accuracy),\n",
    "              \"Validation Loss: {:.6f}\\n\".format(validation_loss),\n",
    "              \"Validation Accuracy: {:.3f}\\n\".format(validation_accuracy))\n",
    "        \n",
    "        model.train()"
   ]
  },
  {
   "cell_type": "code",
   "execution_count": null,
   "metadata": {},
   "outputs": [],
   "source": [
    "from matplotlib import pyplot as plt\n",
    "plt.bar(range(0,5), np.exp(model(X_dash).detach().cpu().numpy()[0]), alpha=0.5);"
   ]
  },
  {
   "cell_type": "code",
   "execution_count": null,
   "metadata": {},
   "outputs": [],
   "source": [
    "Y_dash[0]"
   ]
  },
  {
   "cell_type": "code",
   "execution_count": null,
   "metadata": {},
   "outputs": [],
   "source": [
    "plt.plot(train_losses, label='Training loss')\n",
    "plt.plot(validation_losses, label='Validation loss')\n",
    "plt.legend(frameon=False);"
   ]
  },
  {
   "cell_type": "code",
   "execution_count": null,
   "metadata": {},
   "outputs": [],
   "source": [
    "plt.plot(train_accuracies, label='Training Accuracy')\n",
    "plt.plot(validation_accuracies, label='Validation Accuracy')\n",
    "plt.legend(frameon=False);"
   ]
  },
  {
   "cell_type": "code",
   "execution_count": null,
   "metadata": {},
   "outputs": [],
   "source": []
  },
  {
   "cell_type": "code",
   "execution_count": null,
   "metadata": {},
   "outputs": [],
   "source": []
  },
  {
   "cell_type": "markdown",
   "metadata": {},
   "source": [
    "# Old"
   ]
  },
  {
   "cell_type": "code",
   "execution_count": null,
   "metadata": {},
   "outputs": [],
   "source": [
    "import pandas as pd "
   ]
  },
  {
   "cell_type": "code",
   "execution_count": null,
   "metadata": {},
   "outputs": [],
   "source": [
    "train = pd.read_csv(\"/home/flennic/git/text-mining-project/src/data/processed/train.csv\", header=None)\n",
    "test = pd.read_csv(\"/home/flennic/git/text-mining-project/src/data/processed/test.csv\", header=None) "
   ]
  },
  {
   "cell_type": "code",
   "execution_count": null,
   "metadata": {},
   "outputs": [],
   "source": [
    "train.head()"
   ]
  },
  {
   "cell_type": "code",
   "execution_count": null,
   "metadata": {},
   "outputs": [],
   "source": [
    "test.head()"
   ]
  },
  {
   "cell_type": "code",
   "execution_count": null,
   "metadata": {},
   "outputs": [],
   "source": [
    "import logging\n",
    "import torch\n",
    "from transformers import BertTokenizer, BertModel, BertForSequenceClassification\n",
    "\n",
    "logger = logging.getLogger(__name__)\n",
    "\n",
    "# Load pre-trained model tokenizer (vocabulary)\n",
    "tokenizer = BertTokenizer.from_pretrained('bert-base-uncased')"
   ]
  },
  {
   "cell_type": "code",
   "execution_count": null,
   "metadata": {},
   "outputs": [],
   "source": [
    "model = BertForSequenceClassification.from_pretrained('bert-base-uncased', num_labels=5)"
   ]
  },
  {
   "cell_type": "code",
   "execution_count": null,
   "metadata": {},
   "outputs": [],
   "source": [
    "model.config"
   ]
  },
  {
   "cell_type": "code",
   "execution_count": null,
   "metadata": {},
   "outputs": [],
   "source": [
    "model.eval();"
   ]
  },
  {
   "cell_type": "code",
   "execution_count": null,
   "metadata": {},
   "outputs": [],
   "source": [
    "model.to('cuda');"
   ]
  },
  {
   "cell_type": "code",
   "execution_count": null,
   "metadata": {},
   "outputs": [],
   "source": [
    "input_ids1 = torch.tensor(tokenizer.encode(\"Hello, my dog is cute\".lower(), add_special_tokens=True)).unsqueeze(0).to('cuda')  # Batch size 1\n",
    "input_ids2 = torch.tensor(tokenizer.encode(\"Hello, my cat is ugly\".lower(), add_special_tokens=True)).unsqueeze(0).to('cuda')  # Batch size 1"
   ]
  },
  {
   "cell_type": "code",
   "execution_count": null,
   "metadata": {},
   "outputs": [],
   "source": [
    "input_ids1.shape"
   ]
  },
  {
   "cell_type": "code",
   "execution_count": null,
   "metadata": {},
   "outputs": [],
   "source": [
    "input_ids = torch.cat((input_ids1, input_ids2))"
   ]
  },
  {
   "cell_type": "code",
   "execution_count": null,
   "metadata": {},
   "outputs": [],
   "source": [
    "input_ids.shape"
   ]
  },
  {
   "cell_type": "code",
   "execution_count": null,
   "metadata": {},
   "outputs": [],
   "source": [
    "labels = torch.tensor([0, 1]).unsqueeze(0).to('cuda')   # Batch size 1"
   ]
  },
  {
   "cell_type": "code",
   "execution_count": null,
   "metadata": {},
   "outputs": [],
   "source": [
    "labels"
   ]
  },
  {
   "cell_type": "code",
   "execution_count": null,
   "metadata": {},
   "outputs": [],
   "source": [
    "outputs = model(input_ids, labels=labels)"
   ]
  },
  {
   "cell_type": "code",
   "execution_count": null,
   "metadata": {},
   "outputs": [],
   "source": [
    "outputs"
   ]
  },
  {
   "cell_type": "code",
   "execution_count": null,
   "metadata": {},
   "outputs": [],
   "source": [
    "loss, logits = outputs[:2]"
   ]
  },
  {
   "cell_type": "code",
   "execution_count": null,
   "metadata": {},
   "outputs": [],
   "source": [
    "import numpy as np"
   ]
  },
  {
   "cell_type": "code",
   "execution_count": null,
   "metadata": {},
   "outputs": [],
   "source": [
    "np.exp(logits.detach().cpu().numpy())"
   ]
  },
  {
   "cell_type": "code",
   "execution_count": null,
   "metadata": {},
   "outputs": [],
   "source": [
    "outputs = model(input_ids)"
   ]
  },
  {
   "cell_type": "code",
   "execution_count": null,
   "metadata": {},
   "outputs": [],
   "source": [
    "outputs"
   ]
  },
  {
   "cell_type": "markdown",
   "metadata": {},
   "source": [
    "## Raw BERT"
   ]
  },
  {
   "cell_type": "code",
   "execution_count": null,
   "metadata": {},
   "outputs": [],
   "source": [
    "model = BertModel.from_pretrained('bert-base-uncased')"
   ]
  },
  {
   "cell_type": "code",
   "execution_count": null,
   "metadata": {},
   "outputs": [],
   "source": [
    "model.config"
   ]
  },
  {
   "cell_type": "code",
   "execution_count": null,
   "metadata": {},
   "outputs": [],
   "source": [
    "model.eval();"
   ]
  },
  {
   "cell_type": "code",
   "execution_count": null,
   "metadata": {},
   "outputs": [],
   "source": [
    "model.to('cuda');"
   ]
  },
  {
   "cell_type": "code",
   "execution_count": null,
   "metadata": {},
   "outputs": [],
   "source": [
    "tokenizer = BertTokenizer.from_pretrained('bert-base-uncased', output_hidden_states=True)\n",
    "input_ids = torch.tensor(tokenizer.encode(\"Hello, my dog is cute\", add_special_tokens=True)).unsqueeze(0).to('cuda')  # Batch size 1\n",
    "outputs = model(input_ids)\n",
    "last_hidden_states = outputs[0]  # The last hidden-state is the first element of the output tuple"
   ]
  },
  {
   "cell_type": "code",
   "execution_count": null,
   "metadata": {},
   "outputs": [],
   "source": [
    "tokenizer.tokenize(\"Hello, my dog is cute\")"
   ]
  },
  {
   "cell_type": "code",
   "execution_count": null,
   "metadata": {},
   "outputs": [],
   "source": [
    "tokenizer.cls_token"
   ]
  },
  {
   "cell_type": "code",
   "execution_count": null,
   "metadata": {},
   "outputs": [],
   "source": [
    "tokenizer.convert_tokens_to_ids(\"[CLS]\")"
   ]
  },
  {
   "cell_type": "code",
   "execution_count": null,
   "metadata": {},
   "outputs": [],
   "source": [
    "input_ids"
   ]
  },
  {
   "cell_type": "code",
   "execution_count": null,
   "metadata": {},
   "outputs": [],
   "source": [
    "outputs[1].shape"
   ]
  },
  {
   "cell_type": "code",
   "execution_count": null,
   "metadata": {},
   "outputs": [],
   "source": [
    "outputs[0].shape"
   ]
  },
  {
   "cell_type": "code",
   "execution_count": null,
   "metadata": {},
   "outputs": [],
   "source": [
    "outputs[0][0, 0,:].shape"
   ]
  },
  {
   "cell_type": "code",
   "execution_count": null,
   "metadata": {},
   "outputs": [],
   "source": [
    "a = (\"a\", \"b\", \"c\")"
   ]
  },
  {
   "cell_type": "code",
   "execution_count": null,
   "metadata": {},
   "outputs": [],
   "source": [
    "b = (1, 2) + a"
   ]
  },
  {
   "cell_type": "code",
   "execution_count": null,
   "metadata": {},
   "outputs": [],
   "source": [
    "b"
   ]
  },
  {
   "cell_type": "code",
   "execution_count": null,
   "metadata": {},
   "outputs": [],
   "source": [
    "from gensim.models import KeyedVectors"
   ]
  },
  {
   "cell_type": "code",
   "execution_count": null,
   "metadata": {},
   "outputs": [],
   "source": [
    "!pwd"
   ]
  },
  {
   "cell_type": "code",
   "execution_count": null,
   "metadata": {},
   "outputs": [],
   "source": [
    "model = KeyedVectors.load_word2vec_format('src/data/embeddings/GoogleNews-vectors-negative300.bin', binary=True)"
   ]
  },
  {
   "cell_type": "code",
   "execution_count": null,
   "metadata": {},
   "outputs": [],
   "source": [
    "model[\"hello\"].shape"
   ]
  },
  {
   "cell_type": "code",
   "execution_count": null,
   "metadata": {},
   "outputs": [],
   "source": []
  }
 ],
 "metadata": {
  "kernelspec": {
   "display_name": "Python 3",
   "language": "python",
   "name": "python3"
  },
  "language_info": {
   "codemirror_mode": {
    "name": "ipython",
    "version": 3
   },
   "file_extension": ".py",
   "mimetype": "text/x-python",
   "name": "python",
   "nbconvert_exporter": "python",
   "pygments_lexer": "ipython3",
   "version": "3.7.3"
  }
 },
 "nbformat": 4,
 "nbformat_minor": 4
}
