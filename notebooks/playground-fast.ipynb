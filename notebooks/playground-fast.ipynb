{
 "cells": [
  {
   "cell_type": "markdown",
   "metadata": {},
   "source": [
    "# Data Processing"
   ]
  },
  {
   "cell_type": "code",
   "execution_count": 1,
   "metadata": {},
   "outputs": [],
   "source": [
    "path_train = '../src/data/processed/train_p-w2v_e-1m_p-200_s0.85.csv'\n",
    "path_val = '../src/data/processed/val_p-w2v_e-1m_p-200_s0.1.csv'\n",
    "path_test = '../src/data/processed/test_p-w2v_e-1m_p-200_s0.05.csv'"
   ]
  },
  {
   "cell_type": "code",
   "execution_count": 2,
   "metadata": {},
   "outputs": [],
   "source": [
    "batch_size = 1024\n",
    "train_loader_workers = 4"
   ]
  },
  {
   "cell_type": "markdown",
   "metadata": {},
   "source": [
    "Reading in word vectors. Reduced to 500k due to RAM limits."
   ]
  },
  {
   "cell_type": "markdown",
   "metadata": {},
   "source": [
    "**Todo:** Filter for those vocabularies that are actually in the whole data set."
   ]
  },
  {
   "cell_type": "markdown",
   "metadata": {},
   "source": [
    "Create a Dataset for the Amazon reviews."
   ]
  },
  {
   "cell_type": "code",
   "execution_count": 3,
   "metadata": {},
   "outputs": [],
   "source": [
    "from torch.utils.data import IterableDataset\n",
    "import torch\n",
    "\n",
    "class AmazonReviewDatasetWord2Vec(IterableDataset):\n",
    "    def __init__(self, path):\n",
    "        \n",
    "        self._length = 0\n",
    "        self._path = path\n",
    "\n",
    "    def __iter__(self):\n",
    "        return map(self.__process__, open(self._path))\n",
    "    \n",
    "    @property\n",
    "    def length(self):\n",
    "        if self._length == 0:\n",
    "            with open(self._path, 'r') as file:\n",
    "                for line in file:\n",
    "                    self._length += 1\n",
    "        return self._length\n",
    "    \n",
    "    @staticmethod\n",
    "    def __process__(line):\n",
    "        return [int(entry) for entry in line.split(\",\")]"
   ]
  },
  {
   "cell_type": "code",
   "execution_count": 4,
   "metadata": {},
   "outputs": [],
   "source": [
    "train_data = AmazonReviewDatasetWord2Vec(path_train)\n",
    "val_data = AmazonReviewDatasetWord2Vec(path_val)"
   ]
  },
  {
   "cell_type": "markdown",
   "metadata": {},
   "source": [
    "Create a DataLoader as well, using a custom collate function for creating the batches."
   ]
  },
  {
   "cell_type": "code",
   "execution_count": 5,
   "metadata": {},
   "outputs": [],
   "source": [
    "def batch2tensor(batch):\n",
    "    X, Y = [None]*len(batch), [None]*len(batch)\n",
    "    for i, row in enumerate(batch):\n",
    "        Y[i] = row[0]\n",
    "        X[i] = row[1:]\n",
    "        \n",
    "    return torch.LongTensor(X), torch.LongTensor(Y)"
   ]
  },
  {
   "cell_type": "code",
   "execution_count": 6,
   "metadata": {},
   "outputs": [
    {
     "name": "stdout",
     "output_type": "stream",
     "text": [
      "CPU times: user 51 µs, sys: 7 µs, total: 58 µs\n",
      "Wall time: 61 µs\n"
     ]
    }
   ],
   "source": [
    "%%time\n",
    "from torch.utils.data import DataLoader\n",
    "dataloader_train = DataLoader(train_data, batch_size=batch_size, num_workers=train_loader_workers, collate_fn=batch2tensor)\n",
    "dataloader_val = DataLoader(val_data, batch_size=batch_size, num_workers=train_loader_workers, collate_fn=batch2tensor)"
   ]
  },
  {
   "cell_type": "markdown",
   "metadata": {},
   "source": [
    "Load one example."
   ]
  },
  {
   "cell_type": "code",
   "execution_count": 7,
   "metadata": {},
   "outputs": [
    {
     "name": "stdout",
     "output_type": "stream",
     "text": [
      "CPU times: user 6.25 ms, sys: 24.2 ms, total: 30.4 ms\n",
      "Wall time: 33 ms\n"
     ]
    }
   ],
   "source": [
    "%%time\n",
    "dataiter_val = iter(dataloader_val)"
   ]
  },
  {
   "cell_type": "code",
   "execution_count": 8,
   "metadata": {},
   "outputs": [
    {
     "name": "stdout",
     "output_type": "stream",
     "text": [
      "CPU times: user 8.23 ms, sys: 717 µs, total: 8.95 ms\n",
      "Wall time: 207 ms\n"
     ]
    }
   ],
   "source": [
    "%%time\n",
    "X_dash, Y_dash = dataiter_val.next()"
   ]
  },
  {
   "cell_type": "code",
   "execution_count": 9,
   "metadata": {},
   "outputs": [
    {
     "name": "stdout",
     "output_type": "stream",
     "text": [
      "CPU times: user 2.89 ms, sys: 28.1 ms, total: 31 ms\n",
      "Wall time: 28.3 ms\n"
     ]
    }
   ],
   "source": [
    "%%time\n",
    "dataiter_train = iter(dataloader_train)"
   ]
  },
  {
   "cell_type": "code",
   "execution_count": 10,
   "metadata": {},
   "outputs": [
    {
     "name": "stdout",
     "output_type": "stream",
     "text": [
      "CPU times: user 6.55 ms, sys: 6.2 ms, total: 12.7 ms\n",
      "Wall time: 190 ms\n"
     ]
    }
   ],
   "source": [
    "%%time\n",
    "X_dash, Y_dash = dataiter_train.next()"
   ]
  },
  {
   "cell_type": "code",
   "execution_count": 11,
   "metadata": {},
   "outputs": [],
   "source": [
    "X_dash = X_dash.cuda()\n",
    "Y_dash = Y_dash.cuda()"
   ]
  },
  {
   "cell_type": "code",
   "execution_count": 12,
   "metadata": {},
   "outputs": [
    {
     "data": {
      "text/plain": [
       "torch.Size([1024, 200])"
      ]
     },
     "execution_count": 12,
     "metadata": {},
     "output_type": "execute_result"
    }
   ],
   "source": [
    "X_dash.shape"
   ]
  },
  {
   "cell_type": "code",
   "execution_count": 13,
   "metadata": {},
   "outputs": [
    {
     "data": {
      "text/plain": [
       "torch.Size([1024])"
      ]
     },
     "execution_count": 13,
     "metadata": {},
     "output_type": "execute_result"
    }
   ],
   "source": [
    "Y_dash.shape"
   ]
  },
  {
   "cell_type": "markdown",
   "metadata": {},
   "source": [
    "# FFN"
   ]
  },
  {
   "cell_type": "code",
   "execution_count": 14,
   "metadata": {},
   "outputs": [],
   "source": [
    "import torch.nn as nn"
   ]
  },
  {
   "cell_type": "code",
   "execution_count": 15,
   "metadata": {},
   "outputs": [],
   "source": [
    "class FFN(nn.Module):\n",
    "    def __init__(self, word_embeddings, embedding_size=300, padding=200, category_amount=5, dropout=0.25):\n",
    "        super().__init__()\n",
    "        \n",
    "        # Predefined word embeddings\n",
    "        self.embedding = nn.Embedding.from_pretrained(word_embeddings)\n",
    "        \n",
    "        # Dropout\n",
    "        self.dropout = nn.Dropout(p=dropout)\n",
    "        \n",
    "        self.l1 = nn.Linear(embedding_size * padding, 256)\n",
    "        self.l2 = nn.Linear(256, category_amount)\n",
    "        \n",
    "        # Define sigmoid activation and softmax output \n",
    "        self.sigmoid = nn.Sigmoid()\n",
    "        self.softmax = nn.LogSoftmax(dim=1)\n",
    "        \n",
    "    def forward(self, x):\n",
    "        # Pass the input tensor through each of our operations\n",
    "        x = self.embedding(x)\n",
    "        x = x.view(x.shape[0], -1)\n",
    "        x = self.l1(x)\n",
    "        x = self.sigmoid(x)\n",
    "        x = self.dropout(x)\n",
    "        x = self.l2(x)\n",
    "        x = self.softmax(x)\n",
    "        \n",
    "        return x"
   ]
  },
  {
   "cell_type": "code",
   "execution_count": 16,
   "metadata": {},
   "outputs": [
    {
     "name": "stdout",
     "output_type": "stream",
     "text": [
      "CPU times: user 34.8 s, sys: 4.1 s, total: 38.9 s\n",
      "Wall time: 40.1 s\n"
     ]
    }
   ],
   "source": [
    "%%time\n",
    "import gensim\n",
    "import numpy as np\n",
    "from transformers import BertTokenizer\n",
    "tokenizerBert = BertTokenizer.from_pretrained('bert-base-uncased')\n",
    "embedding_model = gensim.models.KeyedVectors.load_word2vec_format('../src/data/embeddings/GoogleNews-vectors-negative300.bin', binary=True, limit=1_000_000)\n",
    "embedding_model.add(tokenizerBert._unk_token, np.mean(embedding_model.vectors, axis=0), replace=False)\n",
    "embedding_model.add(tokenizerBert._pad_token, np.zeros(300),replace=False)"
   ]
  },
  {
   "cell_type": "code",
   "execution_count": 17,
   "metadata": {},
   "outputs": [],
   "source": [
    "model = FFN(torch.FloatTensor(embedding_model.vectors)).cuda()"
   ]
  },
  {
   "cell_type": "code",
   "execution_count": 18,
   "metadata": {},
   "outputs": [],
   "source": [
    "del tokenizerBert, embedding_model"
   ]
  },
  {
   "cell_type": "code",
   "execution_count": 19,
   "metadata": {},
   "outputs": [
    {
     "data": {
      "text/plain": [
       "FFN(\n",
       "  (embedding): Embedding(1000002, 300)\n",
       "  (dropout): Dropout(p=0.25, inplace=False)\n",
       "  (l1): Linear(in_features=60000, out_features=256, bias=True)\n",
       "  (l2): Linear(in_features=256, out_features=5, bias=True)\n",
       "  (sigmoid): Sigmoid()\n",
       "  (softmax): LogSoftmax()\n",
       ")"
      ]
     },
     "execution_count": 19,
     "metadata": {},
     "output_type": "execute_result"
    }
   ],
   "source": [
    "model"
   ]
  },
  {
   "cell_type": "code",
   "execution_count": 20,
   "metadata": {},
   "outputs": [
    {
     "data": {
      "text/plain": [
       "torch.Size([1024, 5])"
      ]
     },
     "execution_count": 20,
     "metadata": {},
     "output_type": "execute_result"
    }
   ],
   "source": [
    "model(X_dash).shape"
   ]
  },
  {
   "cell_type": "code",
   "execution_count": 21,
   "metadata": {},
   "outputs": [
    {
     "data": {
      "text/plain": [
       "torch.Size([5])"
      ]
     },
     "execution_count": 21,
     "metadata": {},
     "output_type": "execute_result"
    }
   ],
   "source": [
    "model(X_dash)[0].shape"
   ]
  },
  {
   "cell_type": "code",
   "execution_count": 22,
   "metadata": {},
   "outputs": [
    {
     "data": {
      "text/plain": [
       "torch.Size([1024, 5])"
      ]
     },
     "execution_count": 22,
     "metadata": {},
     "output_type": "execute_result"
    }
   ],
   "source": [
    "model(X_dash).shape"
   ]
  },
  {
   "cell_type": "code",
   "execution_count": 23,
   "metadata": {},
   "outputs": [
    {
     "data": {
      "text/plain": [
       "torch.Size([1024])"
      ]
     },
     "execution_count": 23,
     "metadata": {},
     "output_type": "execute_result"
    }
   ],
   "source": [
    "Y_dash.shape"
   ]
  },
  {
   "cell_type": "code",
   "execution_count": 24,
   "metadata": {},
   "outputs": [
    {
     "data": {
      "text/plain": [
       "torch.Size([1024, 200])"
      ]
     },
     "execution_count": 24,
     "metadata": {},
     "output_type": "execute_result"
    }
   ],
   "source": [
    "X_dash.shape"
   ]
  },
  {
   "cell_type": "markdown",
   "metadata": {},
   "source": [
    "Look at the untrained model."
   ]
  },
  {
   "cell_type": "code",
   "execution_count": 25,
   "metadata": {},
   "outputs": [],
   "source": [
    "from matplotlib import pyplot as plt"
   ]
  },
  {
   "cell_type": "code",
   "execution_count": 26,
   "metadata": {},
   "outputs": [
    {
     "data": {
      "image/png": "[encoded data removed]",
      "text/plain": [
       "<Figure size 432x288 with 1 Axes>"
      ]
     },
     "metadata": {
      "needs_background": "light"
     },
     "output_type": "display_data"
    }
   ],
   "source": [
    "plt.bar(range(0,5), np.exp(model(X_dash).detach().cpu().numpy()[0]), alpha=0.5);"
   ]
  },
  {
   "cell_type": "markdown",
   "metadata": {},
   "source": [
    "## Training the Model"
   ]
  },
  {
   "cell_type": "code",
   "execution_count": 27,
   "metadata": {},
   "outputs": [],
   "source": [
    "from torch import optim"
   ]
  },
  {
   "cell_type": "code",
   "execution_count": 28,
   "metadata": {},
   "outputs": [],
   "source": [
    "#optimizer = optim.SGD(model.parameters(), lr=0.04, nesterov=True, momentum=0.1)\n",
    "optimizer = optim.Adam(model.parameters(), lr=0.05)"
   ]
  },
  {
   "cell_type": "code",
   "execution_count": 29,
   "metadata": {},
   "outputs": [],
   "source": [
    "criterion = nn.NLLLoss()"
   ]
  },
  {
   "cell_type": "code",
   "execution_count": null,
   "metadata": {},
   "outputs": [
    {
     "name": "stdout",
     "output_type": "stream",
     "text": [
      "Epoch: 1/4\n",
      " Training Loss: 0.001473\n",
      " Training Accuracy: 0.318\n",
      " Validation Loss: 0.001412\n",
      " Validation Accuracy: 0.358\n",
      "\n"
     ]
    }
   ],
   "source": [
    "%%time\n",
    "\n",
    "epochs = 4\n",
    "\n",
    "train_losses, train_accuracies, validation_losses, validation_accuracies = [], [], [], []\n",
    "\n",
    "for e in range(epochs):\n",
    "    \n",
    "    training_loss = 0\n",
    "    training_accuracy = 0\n",
    "    \n",
    "    for X, Y in dataloader_train:\n",
    "        X = X.cuda()\n",
    "        Y = Y.cuda()\n",
    "        \n",
    "        # Reset Gradients\n",
    "        optimizer.zero_grad()\n",
    "        \n",
    "        # Forward, Loss, Backwards, Update\n",
    "        output = model(X)\n",
    "        loss = criterion(output, Y)\n",
    "        loss.backward()\n",
    "        optimizer.step()\n",
    "        \n",
    "        # Calculate Metrics\n",
    "        training_loss += loss.item()\n",
    "        training_accuracy += torch.sum(torch.exp(output).topk(1)[1].view(-1) == Y).item()\n",
    "        \n",
    "    else:\n",
    "        \n",
    "        validation_loss = 0\n",
    "        validation_accuracy = 0\n",
    "        \n",
    "        model.eval()\n",
    "        \n",
    "        with torch.no_grad():\n",
    "            \n",
    "            for X, Y in dataloader_val:\n",
    "                X = X.cuda()\n",
    "                Y = Y.cuda()\n",
    "                \n",
    "                output_validation = model(X)\n",
    "                loss_val = criterion(output_validation, Y)\n",
    "                validation_loss += loss_val.item()\n",
    "                validation_accuracy += torch.sum(torch.exp(output_validation).topk(1, dim=1)[1].view(-1) == Y).item()\n",
    "        \n",
    "        training_loss /= (train_data.length * train_loader_workers)\n",
    "        training_accuracy /= (train_data.length * train_loader_workers)\n",
    "        validation_loss /= (val_data.length * train_loader_workers)\n",
    "        validation_accuracy /= (val_data.length * train_loader_workers)\n",
    "        \n",
    "        # Saving metrics\n",
    "        train_losses.append(training_loss)\n",
    "        train_accuracies.append(training_accuracy)\n",
    "        validation_losses.append(validation_loss)\n",
    "        validation_accuracies.append(validation_accuracy)\n",
    "        \n",
    "        print(\"Epoch: {}/{}\\n\".format(e+1, epochs),\n",
    "              \"Training Loss: {:.6f}\\n\".format(training_loss),\n",
    "              \"Training Accuracy: {:.3f}\\n\".format(training_accuracy),\n",
    "              \"Validation Loss: {:.6f}\\n\".format(validation_loss),\n",
    "              \"Validation Accuracy: {:.3f}\\n\".format(validation_accuracy))\n",
    "        \n",
    "        model.train()"
   ]
  },
  {
   "cell_type": "code",
   "execution_count": null,
   "metadata": {},
   "outputs": [],
   "source": [
    "plt.bar(range(0,5), np.exp(model(X_dash).detach().cpu().numpy()[0]), alpha=0.5);"
   ]
  },
  {
   "cell_type": "code",
   "execution_count": null,
   "metadata": {},
   "outputs": [],
   "source": [
    "Y_dash[0]"
   ]
  },
  {
   "cell_type": "code",
   "execution_count": null,
   "metadata": {},
   "outputs": [],
   "source": [
    "plt.plot(train_losses, label='Training loss')\n",
    "plt.plot(validation_losses, label='Validation loss')\n",
    "plt.legend(frameon=False);"
   ]
  },
  {
   "cell_type": "code",
   "execution_count": null,
   "metadata": {},
   "outputs": [],
   "source": [
    "plt.plot(train_accuracies, label='Training Accuracy')\n",
    "plt.plot(validation_accuracies, label='Validation Accuracy')\n",
    "plt.legend(frameon=False);"
   ]
  },
  {
   "cell_type": "code",
   "execution_count": null,
   "metadata": {},
   "outputs": [],
   "source": []
  },
  {
   "cell_type": "markdown",
   "metadata": {},
   "source": [
    "# LSTM"
   ]
  },
  {
   "cell_type": "code",
   "execution_count": 14,
   "metadata": {},
   "outputs": [],
   "source": [
    "import torch\n",
    "import torch.nn as nn"
   ]
  },
  {
   "cell_type": "code",
   "execution_count": 15,
   "metadata": {},
   "outputs": [],
   "source": [
    "class LSTM(nn.Module):\n",
    "    def __init__(self, word_embeddings, embedding_size=300, padding=200,\n",
    "                 category_amount=5, lstm_layers = 2, lstm_hidden = 128,\n",
    "                 dropout=0.25, lstm_dropout=0.25):\n",
    "        \n",
    "        super().__init__()\n",
    "\n",
    "        self.lstm_layers = lstm_layers\n",
    "        self.lstm_hidden = lstm_hidden\n",
    "        \n",
    "        # Predefined word embeddings\n",
    "        self.embedding = nn.Embedding.from_pretrained(word_embeddings)\n",
    "        \n",
    "        # LSTM\n",
    "        self.lstm = nn.LSTM(embedding_size, lstm_hidden, lstm_layers,\n",
    "                           batch_first=True, dropout=lstm_dropout,\n",
    "                           bidirectional=False)\n",
    "        \n",
    "        # Dropout\n",
    "        self.dropout = nn.Dropout(p=dropout)\n",
    "        \n",
    "        # FFN\n",
    "        self.l1 = nn.Linear(lstm_hidden * padding, category_amount)\n",
    "        \n",
    "        # Define sigmoid activation and softmax output \n",
    "        self.sigmoid = nn.Sigmoid()\n",
    "        self.softmax = nn.LogSoftmax(dim=1)\n",
    "        \n",
    "    def forward(self, x):\n",
    "\n",
    "        hidden = self.init_hidden(x.shape[0])\n",
    "\n",
    "        # Pass the input tensor through each of our operations\n",
    "        x = self.embedding(x)\n",
    "        x, hidden = self.lstm(x, hidden)\n",
    "        x = self.dropout(x)\n",
    "        x = x.reshape(x.shape[0], -1)\n",
    "        x = self.l1(x)\n",
    "        x = self.sigmoid(x)\n",
    "        x = self.softmax(x)\n",
    "        \n",
    "        return x#, hidden\n",
    "    \n",
    "    def init_hidden(self, batch_size):\n",
    "        ''' Initializes hidden state '''\n",
    "        # Create two new tensors with sizes lstm_layers x batch_size x lstm_hidden,\n",
    "        # initialized to zero, for hidden state and cell state of LSTM\n",
    "        weight = next(self.parameters()).data\n",
    "        \n",
    "        hidden = (weight.new(self.lstm_layers, batch_size, self.lstm_hidden).zero_().cuda(),\n",
    "                  weight.new(self.lstm_layers, batch_size, self.lstm_hidden).zero_().cuda())\n",
    "        \n",
    "        return hidden"
   ]
  },
  {
   "cell_type": "code",
   "execution_count": 16,
   "metadata": {},
   "outputs": [
    {
     "name": "stdout",
     "output_type": "stream",
     "text": [
      "CPU times: user 33.8 s, sys: 2.76 s, total: 36.6 s\n",
      "Wall time: 35.7 s\n"
     ]
    }
   ],
   "source": [
    "%%time\n",
    "import gensim\n",
    "import numpy as np\n",
    "from transformers import BertTokenizer\n",
    "tokenizerBert = BertTokenizer.from_pretrained('bert-base-uncased')\n",
    "embedding_model = gensim.models.KeyedVectors.load_word2vec_format('../src/data/embeddings/GoogleNews-vectors-negative300.bin', binary=True, limit=1_000_000)\n",
    "embedding_model.add(tokenizerBert._unk_token, np.mean(embedding_model.vectors, axis=0), replace=False)\n",
    "embedding_model.add(tokenizerBert._pad_token, np.zeros(300),replace=False)"
   ]
  },
  {
   "cell_type": "code",
   "execution_count": 17,
   "metadata": {},
   "outputs": [],
   "source": [
    "model = LSTM(torch.FloatTensor(embedding_model.vectors)).cuda()"
   ]
  },
  {
   "cell_type": "code",
   "execution_count": 18,
   "metadata": {},
   "outputs": [],
   "source": [
    "del tokenizerBert, embedding_model"
   ]
  },
  {
   "cell_type": "code",
   "execution_count": 19,
   "metadata": {},
   "outputs": [
    {
     "data": {
      "text/plain": [
       "LSTM(\n",
       "  (embedding): Embedding(1000002, 300)\n",
       "  (lstm): LSTM(300, 128, num_layers=2, batch_first=True, dropout=0.25)\n",
       "  (dropout): Dropout(p=0.25, inplace=False)\n",
       "  (l1): Linear(in_features=25600, out_features=5, bias=True)\n",
       "  (sigmoid): Sigmoid()\n",
       "  (softmax): LogSoftmax()\n",
       ")"
      ]
     },
     "execution_count": 19,
     "metadata": {},
     "output_type": "execute_result"
    }
   ],
   "source": [
    "model"
   ]
  },
  {
   "cell_type": "code",
   "execution_count": 20,
   "metadata": {},
   "outputs": [],
   "source": [
    "#hidden, out = model(X_dash, hidden)\n",
    "out = model(X_dash)"
   ]
  },
  {
   "cell_type": "code",
   "execution_count": 21,
   "metadata": {},
   "outputs": [
    {
     "data": {
      "text/plain": [
       "torch.Size([1024, 5])"
      ]
     },
     "execution_count": 21,
     "metadata": {},
     "output_type": "execute_result"
    }
   ],
   "source": [
    "out.shape"
   ]
  },
  {
   "cell_type": "code",
   "execution_count": 22,
   "metadata": {},
   "outputs": [],
   "source": [
    "from torch import optim\n",
    "#optimizer = optim.SGD(model.parameters(), lr=0.05, nesterov=True, momentum=0.1)\n",
    "optimizer = optim.Adam(model.parameters(), lr=0.05)"
   ]
  },
  {
   "cell_type": "code",
   "execution_count": 23,
   "metadata": {},
   "outputs": [],
   "source": [
    "criterion = nn.NLLLoss()"
   ]
  },
  {
   "cell_type": "code",
   "execution_count": 24,
   "metadata": {},
   "outputs": [
    {
     "name": "stdout",
     "output_type": "stream",
     "text": [
      "Batch done 100. torch.Size([1024, 200])\n",
      "Batch done 200. torch.Size([1024, 200])\n",
      "Batch done 300. torch.Size([1024, 200])\n",
      "Batch done 400. torch.Size([1024, 200])\n",
      "Batch done 500. torch.Size([1024, 200])\n",
      "Batch done 600. torch.Size([1024, 200])\n",
      "Batch done 700. torch.Size([1024, 200])\n",
      "Batch done 800. torch.Size([1024, 200])\n",
      "Batch done 900. torch.Size([1024, 200])\n",
      "Batch done 1000. torch.Size([1024, 200])\n",
      "Batch done 1100. torch.Size([1024, 200])\n",
      "Batch done 1200. torch.Size([1024, 200])\n",
      "Batch done 1300. torch.Size([1024, 200])\n",
      "Batch done 1400. torch.Size([1024, 200])\n",
      "Batch done 1500. torch.Size([1024, 200])\n",
      "Batch done 1600. torch.Size([1024, 200])\n",
      "Batch done 1700. torch.Size([1024, 200])\n",
      "Batch done 1800. torch.Size([1024, 200])\n",
      "Batch done 1900. torch.Size([1024, 200])\n",
      "Batch done 2000. torch.Size([1024, 200])\n",
      "Batch done 2100. torch.Size([1024, 200])\n",
      "Batch done 2200. torch.Size([1024, 200])\n",
      "Batch done 2300. torch.Size([1024, 200])\n",
      "Batch done 2400. torch.Size([1024, 200])\n",
      "Batch done 2500. torch.Size([1024, 200])\n",
      "Batch done 2600. torch.Size([1024, 200])\n",
      "Batch done 2700. torch.Size([1024, 200])\n",
      "Batch done 2800. torch.Size([1024, 200])\n",
      "Batch done 2900. torch.Size([1024, 200])\n",
      "Batch done 3000. torch.Size([1024, 200])\n",
      "Batch done 3100. torch.Size([1024, 200])\n",
      "Batch done 3200. torch.Size([1024, 200])\n",
      "Batch done 3300. torch.Size([1024, 200])\n",
      "Batch done 3400. torch.Size([1024, 200])\n",
      "Batch done 3500. torch.Size([1024, 200])\n",
      "Batch done 3600. torch.Size([1024, 200])\n",
      "Batch done 3700. torch.Size([1024, 200])\n",
      "Batch done 3800. torch.Size([1024, 200])\n",
      "Batch done 3900. torch.Size([1024, 200])\n",
      "Batch done 4000. torch.Size([1024, 200])\n",
      "Batch done 4100. torch.Size([1024, 200])\n",
      "Batch done 4200. torch.Size([1024, 200])\n",
      "Batch done 4300. torch.Size([1024, 200])\n",
      "Batch done 4400. torch.Size([1024, 200])\n",
      "Batch done 4500. torch.Size([1024, 200])\n",
      "Batch done 4600. torch.Size([1024, 200])\n",
      "Batch done 4700. torch.Size([1024, 200])\n",
      "Batch done 4800. torch.Size([1024, 200])\n",
      "Batch done 4900. torch.Size([1024, 200])\n",
      "Batch done 5000. torch.Size([1024, 200])\n",
      "Batch done 5100. torch.Size([1024, 200])\n",
      "Batch done 5200. torch.Size([1024, 200])\n",
      "Batch done 5300. torch.Size([1024, 200])\n",
      "Batch done 5400. torch.Size([1024, 200])\n",
      "Batch done 5500. torch.Size([1024, 200])\n",
      "Batch done 5600. torch.Size([1024, 200])\n",
      "Batch done 5700. torch.Size([1024, 200])\n",
      "Batch done 5800. torch.Size([1024, 200])\n",
      "Batch done 5900. torch.Size([1024, 200])\n",
      "Batch done 6000. torch.Size([1024, 200])\n",
      "Batch done 6100. torch.Size([1024, 200])\n",
      "Batch done 6200. torch.Size([1024, 200])\n",
      "Batch done 6300. torch.Size([1024, 200])\n",
      "Batch done 6400. torch.Size([1024, 200])\n",
      "Batch done 6500. torch.Size([1024, 200])\n",
      "Batch done 6600. torch.Size([1024, 200])\n",
      "Batch done 6700. torch.Size([1024, 200])\n",
      "Batch done 6800. torch.Size([1024, 200])\n",
      "Batch done 6900. torch.Size([1024, 200])\n",
      "Batch done 7000. torch.Size([1024, 200])\n",
      "Batch done 7100. torch.Size([1024, 200])\n",
      "Batch done 7200. torch.Size([1024, 200])\n",
      "Batch done 7300. torch.Size([1024, 200])\n",
      "Batch done 7400. torch.Size([1024, 200])\n",
      "Batch done 7500. torch.Size([1024, 200])\n",
      "Batch done 7600. torch.Size([1024, 200])\n",
      "Batch done 7700. torch.Size([1024, 200])\n",
      "Batch done 7800. torch.Size([1024, 200])\n",
      "Batch done 7900. torch.Size([1024, 200])\n",
      "Batch done 8000. torch.Size([1024, 200])\n",
      "Batch done 8100. torch.Size([1024, 200])\n",
      "Batch done 8200. torch.Size([1024, 200])\n",
      "Batch done 8300. torch.Size([1024, 200])\n",
      "Batch done 8400. torch.Size([1024, 200])\n",
      "Batch done 8500. torch.Size([1024, 200])\n",
      "Batch done 8600. torch.Size([1024, 200])\n",
      "Batch done 8700. torch.Size([1024, 200])\n",
      "Batch done 8800. torch.Size([1024, 200])\n",
      "Batch done 8900. torch.Size([1024, 200])\n",
      "Batch done 9000. torch.Size([1024, 200])\n",
      "Batch done 9100. torch.Size([1024, 200])\n",
      "Batch done 9200. torch.Size([1024, 200])\n",
      "Batch done 9300. torch.Size([1024, 200])\n",
      "Batch done 9400. torch.Size([1024, 200])\n",
      "Batch done 9500. torch.Size([1024, 200])\n",
      "Batch done 9600. torch.Size([1024, 200])\n",
      "Batch done 9700. torch.Size([1024, 200])\n",
      "Batch done 9800. torch.Size([1024, 200])\n",
      "Batch done 9900. torch.Size([1024, 200])\n",
      "Batch done 10000. torch.Size([1024, 200])\n",
      "Batch done 10100. torch.Size([1024, 200])\n",
      "Batch done 10200. torch.Size([1024, 200])\n",
      "Batch done 10300. torch.Size([1024, 200])\n",
      "Batch done 10400. torch.Size([1024, 200])\n",
      "Batch done 10500. torch.Size([1024, 200])\n",
      "Batch done 10600. torch.Size([1024, 200])\n",
      "Batch done 10700. torch.Size([1024, 200])\n",
      "Batch done 10800. torch.Size([1024, 200])\n",
      "Batch done 10900. torch.Size([1024, 200])\n",
      "Batch done 11000. torch.Size([1024, 200])\n",
      "Batch done 11100. torch.Size([1024, 200])\n",
      "Batch done 11200. torch.Size([1024, 200])\n",
      "Batch done 11300. torch.Size([1024, 200])\n",
      "Batch done 11400. torch.Size([1024, 200])\n",
      "Batch done 11500. torch.Size([1024, 200])\n",
      "Batch done 11600. torch.Size([1024, 200])\n",
      "Batch done 11700. torch.Size([1024, 200])\n",
      "Batch done 11800. torch.Size([1024, 200])\n",
      "Batch done 11900. torch.Size([1024, 200])\n",
      "Batch done 12000. torch.Size([1024, 200])\n",
      "Batch done 12100. torch.Size([1024, 200])\n",
      "Validating...\n",
      "Epoch: 1/1\n",
      " Training Loss: 0.027077\n",
      " Training Accuracy: 3.198\n",
      " Validation Loss: 0.027092\n",
      " Validation Accuracy: 3.209\n",
      "\n",
      "CPU times: user 25min 52s, sys: 11.8 s, total: 26min 4s\n",
      "Wall time: 26min 11s\n"
     ]
    }
   ],
   "source": [
    "%%time\n",
    "\n",
    "epochs = 1\n",
    "clip = 5\n",
    "\n",
    "train_losses, train_accuracies, validation_losses, validation_accuracies = [], [], [], []\n",
    "\n",
    "for e in range(epochs):\n",
    "\n",
    "    # Initialize hidden states\n",
    "    #hidden = model.init_hidden(1024)\n",
    "    \n",
    "    training_loss = 0\n",
    "    training_accuracy = 0\n",
    "    \n",
    "    i = 0\n",
    "    \n",
    "    for X, Y in dataloader_train:\n",
    "        X = X.cuda()\n",
    "        Y = Y.cuda()\n",
    "\n",
    "        #print(\"Starting batch. {}\".format(X.shape))\n",
    "\n",
    "        # Creating new variables for the hidden state, otherwise\n",
    "        # we'd backprop through the entire training history\n",
    "        #hidden = tuple([each.data for each in hidden])\n",
    "    \n",
    "        # Reset Gradients\n",
    "        optimizer.zero_grad()\n",
    "        \n",
    "        # Forward, Loss, Backwards, Update\n",
    "        #output, hidden = model(X, hidden)\n",
    "        output = model(X)\n",
    "        loss = criterion(output, Y)\n",
    "        loss.backward()\n",
    "\n",
    "        # Gradient clipping and update\n",
    "        nn.utils.clip_grad_norm_(model.parameters(), clip)\n",
    "        optimizer.step()\n",
    "        \n",
    "        # Calculate Metrics\n",
    "        training_loss += loss.item()\n",
    "        training_accuracy += torch.sum(torch.exp(output).topk(1)[1].view(-1) == Y).item()\n",
    "        i += 1\n",
    "\n",
    "        if i % 1000 == 0:\n",
    "            print(\"Batch done {}. {}\".format(i, X.shape))\n",
    "        \n",
    "    else:\n",
    "        print(\"Validating...\")\n",
    "        # Initialize hidden staes\n",
    "        #model.init_hidden(1024)\n",
    "\n",
    "        validation_loss = 0\n",
    "        validation_accuracy = 0\n",
    "        \n",
    "        model.eval()\n",
    "        \n",
    "        with torch.no_grad():\n",
    "            for X, Y in dataloader_val:\n",
    "                X = X.cuda()\n",
    "                Y = Y.cuda()\n",
    "\n",
    "                # Creating new variables for the hidden state, otherwise\n",
    "                # we'd backprop through the entire training history\n",
    "                #val_hidden = tuple([each.data for each in val_hidden])\n",
    "                \n",
    "                #output_validation, val_hidden = model(X, val_hidden)\n",
    "                output_validation = model(X)\n",
    "                loss_val = criterion(output_validation, Y)\n",
    "                validation_loss += loss_val.item()\n",
    "                validation_accuracy += torch.sum(torch.exp(output_validation).topk(1, dim=1)[1].view(-1) == Y).item()\n",
    "                \n",
    "        training_loss /= (train_data.length * train_loader_workers)\n",
    "        training_accuracy /= (train_data.length * train_loader_workers)\n",
    "        validation_loss /= (val_data.length * train_loader_workers)\n",
    "        validation_accuracy /= (val_data.length * train_loader_workers)\n",
    "        \n",
    "        # Saving metrics\n",
    "        train_losses.append(training_loss)\n",
    "        train_accuracies.append(training_accuracy)\n",
    "        validation_losses.append(validation_loss)\n",
    "        validation_accuracies.append(validation_accuracy)\n",
    "        \n",
    "        print(\"Epoch: {}/{}\\n\".format(e+1, epochs),\n",
    "              \"Training Loss: {:.6f}\\n\".format(training_loss),\n",
    "              \"Training Accuracy: {:.3f}\\n\".format(training_accuracy),\n",
    "              \"Validation Loss: {:.6f}\\n\".format(validation_loss),\n",
    "              \"Validation Accuracy: {:.3f}\\n\".format(validation_accuracy))\n",
    "        \n",
    "        model.train()"
   ]
  },
  {
   "cell_type": "code",
   "execution_count": 25,
   "metadata": {},
   "outputs": [
    {
     "data": {
      "image/png": "[encoded data removed]",
      "text/plain": [
       "<Figure size 432x288 with 1 Axes>"
      ]
     },
     "metadata": {
      "needs_background": "light"
     },
     "output_type": "display_data"
    }
   ],
   "source": [
    "from matplotlib import pyplot as plt\n",
    "plt.bar(range(0,5), np.exp(model(X_dash).detach().cpu().numpy()[0]), alpha=0.5);"
   ]
  },
  {
   "cell_type": "code",
   "execution_count": 26,
   "metadata": {},
   "outputs": [
    {
     "data": {
      "text/plain": [
       "tensor(1, device='cuda:0')"
      ]
     },
     "execution_count": 26,
     "metadata": {},
     "output_type": "execute_result"
    }
   ],
   "source": [
    "Y_dash[0]"
   ]
  },
  {
   "cell_type": "code",
   "execution_count": 27,
   "metadata": {},
   "outputs": [
    {
     "data": {
      "image/png": "[encoded data removed]",
      "text/plain": [
       "<Figure size 432x288 with 1 Axes>"
      ]
     },
     "metadata": {
      "needs_background": "light"
     },
     "output_type": "display_data"
    }
   ],
   "source": [
    "plt.plot(train_losses, label='Training loss')\n",
    "plt.plot(validation_losses, label='Validation loss')\n",
    "plt.legend(frameon=False);"
   ]
  },
  {
   "cell_type": "code",
   "execution_count": 28,
   "metadata": {},
   "outputs": [
    {
     "data": {
      "image/png": "[encoded data removed]",
      "text/plain": [
       "<Figure size 432x288 with 1 Axes>"
      ]
     },
     "metadata": {
      "needs_background": "light"
     },
     "output_type": "display_data"
    }
   ],
   "source": [
    "plt.plot(train_accuracies, label='Training Accuracy')\n",
    "plt.plot(validation_accuracies, label='Validation Accuracy')\n",
    "plt.legend(frameon=False);"
   ]
  },
  {
   "cell_type": "code",
   "execution_count": null,
   "metadata": {},
   "outputs": [],
   "source": []
  },
  {
   "cell_type": "code",
   "execution_count": null,
   "metadata": {},
   "outputs": [],
   "source": []
  },
  {
   "cell_type": "markdown",
   "metadata": {},
   "source": [
    "# Old"
   ]
  },
  {
   "cell_type": "code",
   "execution_count": null,
   "metadata": {},
   "outputs": [],
   "source": [
    "import pandas as pd "
   ]
  },
  {
   "cell_type": "code",
   "execution_count": null,
   "metadata": {},
   "outputs": [],
   "source": [
    "train = pd.read_csv(\"/home/flennic/git/text-mining-project/src/data/processed/train.csv\", header=None)\n",
    "test = pd.read_csv(\"/home/flennic/git/text-mining-project/src/data/processed/test.csv\", header=None) "
   ]
  },
  {
   "cell_type": "code",
   "execution_count": null,
   "metadata": {},
   "outputs": [],
   "source": [
    "train.head()"
   ]
  },
  {
   "cell_type": "code",
   "execution_count": null,
   "metadata": {},
   "outputs": [],
   "source": [
    "test.head()"
   ]
  },
  {
   "cell_type": "code",
   "execution_count": null,
   "metadata": {},
   "outputs": [],
   "source": [
    "import logging\n",
    "import torch\n",
    "from transformers import BertTokenizer, BertModel, BertForSequenceClassification\n",
    "\n",
    "logger = logging.getLogger(__name__)\n",
    "\n",
    "# Load pre-trained model tokenizer (vocabulary)\n",
    "tokenizer = BertTokenizer.from_pretrained('bert-base-uncased')"
   ]
  },
  {
   "cell_type": "code",
   "execution_count": null,
   "metadata": {},
   "outputs": [],
   "source": [
    "model = BertForSequenceClassification.from_pretrained('bert-base-uncased', num_labels=5)"
   ]
  },
  {
   "cell_type": "code",
   "execution_count": null,
   "metadata": {},
   "outputs": [],
   "source": [
    "model.config"
   ]
  },
  {
   "cell_type": "code",
   "execution_count": null,
   "metadata": {},
   "outputs": [],
   "source": [
    "model.eval();"
   ]
  },
  {
   "cell_type": "code",
   "execution_count": null,
   "metadata": {},
   "outputs": [],
   "source": [
    "model.to('cuda');"
   ]
  },
  {
   "cell_type": "code",
   "execution_count": null,
   "metadata": {},
   "outputs": [],
   "source": [
    "input_ids1 = torch.tensor(tokenizer.encode(\"Hello, my dog is cute\".lower(), add_special_tokens=True)).unsqueeze(0).to('cuda')  # Batch size 1\n",
    "input_ids2 = torch.tensor(tokenizer.encode(\"Hello, my cat is ugly\".lower(), add_special_tokens=True)).unsqueeze(0).to('cuda')  # Batch size 1"
   ]
  },
  {
   "cell_type": "code",
   "execution_count": null,
   "metadata": {},
   "outputs": [],
   "source": [
    "input_ids1.shape"
   ]
  },
  {
   "cell_type": "code",
   "execution_count": null,
   "metadata": {},
   "outputs": [],
   "source": [
    "input_ids = torch.cat((input_ids1, input_ids2))"
   ]
  },
  {
   "cell_type": "code",
   "execution_count": null,
   "metadata": {},
   "outputs": [],
   "source": [
    "input_ids.shape"
   ]
  },
  {
   "cell_type": "code",
   "execution_count": null,
   "metadata": {},
   "outputs": [],
   "source": [
    "labels = torch.tensor([0, 1]).unsqueeze(0).to('cuda')   # Batch size 1"
   ]
  },
  {
   "cell_type": "code",
   "execution_count": null,
   "metadata": {},
   "outputs": [],
   "source": [
    "labels"
   ]
  },
  {
   "cell_type": "code",
   "execution_count": null,
   "metadata": {},
   "outputs": [],
   "source": [
    "outputs = model(input_ids, labels=labels)"
   ]
  },
  {
   "cell_type": "code",
   "execution_count": null,
   "metadata": {},
   "outputs": [],
   "source": [
    "outputs"
   ]
  },
  {
   "cell_type": "code",
   "execution_count": null,
   "metadata": {},
   "outputs": [],
   "source": [
    "loss, logits = outputs[:2]"
   ]
  },
  {
   "cell_type": "code",
   "execution_count": null,
   "metadata": {},
   "outputs": [],
   "source": [
    "import numpy as np"
   ]
  },
  {
   "cell_type": "code",
   "execution_count": null,
   "metadata": {},
   "outputs": [],
   "source": [
    "np.exp(logits.detach().cpu().numpy())"
   ]
  },
  {
   "cell_type": "code",
   "execution_count": null,
   "metadata": {},
   "outputs": [],
   "source": [
    "outputs = model(input_ids)"
   ]
  },
  {
   "cell_type": "code",
   "execution_count": null,
   "metadata": {},
   "outputs": [],
   "source": [
    "outputs"
   ]
  },
  {
   "cell_type": "markdown",
   "metadata": {},
   "source": [
    "## Raw BERT"
   ]
  },
  {
   "cell_type": "code",
   "execution_count": null,
   "metadata": {},
   "outputs": [],
   "source": [
    "model = BertModel.from_pretrained('bert-base-uncased')"
   ]
  },
  {
   "cell_type": "code",
   "execution_count": null,
   "metadata": {},
   "outputs": [],
   "source": [
    "model.config"
   ]
  },
  {
   "cell_type": "code",
   "execution_count": null,
   "metadata": {},
   "outputs": [],
   "source": [
    "model.eval();"
   ]
  },
  {
   "cell_type": "code",
   "execution_count": null,
   "metadata": {},
   "outputs": [],
   "source": [
    "model.to('cuda');"
   ]
  },
  {
   "cell_type": "code",
   "execution_count": null,
   "metadata": {},
   "outputs": [],
   "source": [
    "tokenizer = BertTokenizer.from_pretrained('bert-base-uncased', output_hidden_states=True)\n",
    "input_ids = torch.tensor(tokenizer.encode(\"Hello, my dog is cute\", add_special_tokens=True)).unsqueeze(0).to('cuda')  # Batch size 1\n",
    "outputs = model(input_ids)\n",
    "last_hidden_states = outputs[0]  # The last hidden-state is the first element of the output tuple"
   ]
  },
  {
   "cell_type": "code",
   "execution_count": null,
   "metadata": {},
   "outputs": [],
   "source": [
    "tokenizer.tokenize(\"Hello, my dog is cute\")"
   ]
  },
  {
   "cell_type": "code",
   "execution_count": null,
   "metadata": {},
   "outputs": [],
   "source": [
    "tokenizer.cls_token"
   ]
  },
  {
   "cell_type": "code",
   "execution_count": null,
   "metadata": {},
   "outputs": [],
   "source": [
    "tokenizer.convert_tokens_to_ids(\"[CLS]\")"
   ]
  },
  {
   "cell_type": "code",
   "execution_count": null,
   "metadata": {},
   "outputs": [],
   "source": [
    "input_ids"
   ]
  },
  {
   "cell_type": "code",
   "execution_count": null,
   "metadata": {},
   "outputs": [],
   "source": [
    "outputs[1].shape"
   ]
  },
  {
   "cell_type": "code",
   "execution_count": null,
   "metadata": {},
   "outputs": [],
   "source": [
    "outputs[0].shape"
   ]
  },
  {
   "cell_type": "code",
   "execution_count": null,
   "metadata": {},
   "outputs": [],
   "source": [
    "outputs[0][0, 0,:].shape"
   ]
  },
  {
   "cell_type": "code",
   "execution_count": null,
   "metadata": {},
   "outputs": [],
   "source": [
    "a = (\"a\", \"b\", \"c\")"
   ]
  },
  {
   "cell_type": "code",
   "execution_count": null,
   "metadata": {},
   "outputs": [],
   "source": [
    "b = (1, 2) + a"
   ]
  },
  {
   "cell_type": "code",
   "execution_count": null,
   "metadata": {},
   "outputs": [],
   "source": [
    "b"
   ]
  },
  {
   "cell_type": "code",
   "execution_count": null,
   "metadata": {},
   "outputs": [],
   "source": [
    "from gensim.models import KeyedVectors"
   ]
  },
  {
   "cell_type": "code",
   "execution_count": null,
   "metadata": {},
   "outputs": [],
   "source": [
    "!pwd"
   ]
  },
  {
   "cell_type": "code",
   "execution_count": null,
   "metadata": {},
   "outputs": [],
   "source": [
    "model = KeyedVectors.load_word2vec_format('src/data/embeddings/GoogleNews-vectors-negative300.bin', binary=True)"
   ]
  },
  {
   "cell_type": "code",
   "execution_count": null,
   "metadata": {},
   "outputs": [],
   "source": [
    "model[\"hello\"].shape"
   ]
  },
  {
   "cell_type": "code",
   "execution_count": null,
   "metadata": {},
   "outputs": [],
   "source": []
  }
 ],
 "metadata": {
  "kernelspec": {
   "display_name": "Python 3",
   "language": "python",
   "name": "python3"
  },
  "language_info": {
   "codemirror_mode": {
    "name": "ipython",
    "version": 3
   },
   "file_extension": ".py",
   "mimetype": "text/x-python",
   "name": "python",
   "nbconvert_exporter": "python",
   "pygments_lexer": "ipython3",
   "version": "3.7.3"
  }
 },
 "nbformat": 4,
 "nbformat_minor": 4
}
